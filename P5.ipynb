{
 "cells": [
  {
   "cell_type": "markdown",
   "metadata": {},
   "source": [
    "## Vehicle Detection and Tracking Project\n",
    "\n",
    "The goals / steps of this project are the following:\n",
    "\n",
    "* Use color transforms, gradients, etc., to create a thresholded binary image.\n",
    "* Detect vehicles on road.\n",
    "* Output visual display of the detected cars.\n",
    "\n",
    "---\n",
    "## Camera calibration using chessboard images"
   ]
  },
  {
   "cell_type": "code",
   "execution_count": null,
   "metadata": {},
   "outputs": [],
   "source": [
    "import numpy as np\n",
    "import cv2\n",
    "import glob\n",
    "import os\n",
    "import matplotlib.pyplot as plt\n",
    "%matplotlib inline\n",
    "import matplotlib.image as mpimg\n",
    "from moviepy.editor import VideoFileClip\n",
    "from IPython.display import HTML\n",
    "import zipfile\n",
    "from scipy.ndimage.measurements import label\n",
    "\n",
    "\n",
    "from skimage.feature import hog\n",
    "from skimage import data, exposure\n",
    "from sklearn import preprocessing\n",
    "from sklearn.svm import LinearSVC\n",
    "from sklearn.datasets import make_classification\n",
    "from sklearn import svm\n",
    "from sklearn.model_selection import train_test_split\n",
    "from sklearn.externals import joblib\n",
    "from sklearn.metrics import confusion_matrix\n",
    "from sklearn.model_selection import GridSearchCV\n"
   ]
  },
  {
   "cell_type": "code",
   "execution_count": null,
   "metadata": {},
   "outputs": [],
   "source": [
    "if not os.path.isfile('data' + os.sep + 'vehicles' + os.sep + 'GTI_MiddleClose' + os.sep + 'image0003.png'):\n",
    "    zip_ref = zipfile.ZipFile('data' + os.sep + 'vehicles.zip', 'r')\n",
    "    zip_ref.extractall()\n",
    "    zip_ref.close()\n",
    "if not os.path.isfile('data' + os.sep + 'non-vehicles' + os.sep + 'GTI' + os.sep + 'image1.png'):\n",
    "    zip_ref = zipfile.ZipFile('data' + os.sep + 'non-vehicles.zip', 'r')\n",
    "    zip_ref.extractall()\n",
    "    zip_ref.close()"
   ]
  },
  {
   "cell_type": "code",
   "execution_count": null,
   "metadata": {},
   "outputs": [],
   "source": [
    "def draw_boxes(img, bboxes, color=(0, 0, 255), thick=6):\n",
    "    draw_img = np.copy(img)\n",
    "    for (x1,y1),(x2,y2) in bboxes:\n",
    "        cv2.rectangle(draw_img, (x1, y1), (x2, y2), color, thick)\n",
    "    return draw_img # Change this line to return image copy with boxes"
   ]
  },
  {
   "cell_type": "code",
   "execution_count": null,
   "metadata": {},
   "outputs": [],
   "source": [
    "def color_hist(image, nbins=2):\n",
    "    feature_image = np.copy(image)\n",
    "    rhist = np.histogram(image[:,:,0], bins=nbins, range=(0, 1.0))\n",
    "    ghist = np.histogram(image[:,:,1], bins=nbins, range=(0, 1.0))\n",
    "    bhist = np.histogram(image[:,:,2], bins=nbins, range=(0, 1.0))\n",
    "    bin_edges = rhist[1]\n",
    "    bin_centers = (bin_edges[1:]  + bin_edges[0:len(bin_edges)-1])/2\n",
    "    hist_features = np.concatenate((rhist[0], ghist[0], bhist[0]))\n",
    "    return rhist, ghist, bhist, bin_centers, hist_features"
   ]
  },
  {
   "cell_type": "code",
   "execution_count": null,
   "metadata": {},
   "outputs": [],
   "source": [
    "image = mpimg.imread('data/vehicles/GTI_MiddleClose/image0100.png')\n",
    "_, _, _, _, hist_features = color_hist(image)\n",
    "#print ('image', image)\n",
    "print ('hist_features', hist_features.shape, hist_features, hist_features.dtype)"
   ]
  },
  {
   "cell_type": "code",
   "execution_count": null,
   "metadata": {},
   "outputs": [],
   "source": [
    "def bin_spatial(img, color_space='RGB', size=(4, 4)):\n",
    "    # Convert image to new color space (if specified)\n",
    "    if color_space != 'RGB':\n",
    "        if color_space == 'HSV':\n",
    "            feature_image = cv2.cvtColor(img, cv2.COLOR_RGB2HSV)\n",
    "        elif color_space == 'LUV':\n",
    "            feature_image = cv2.cvtColor(img, cv2.COLOR_RGB2LUV)\n",
    "        elif color_space == 'HLS':\n",
    "            feature_image = cv2.cvtColor(img, cv2.COLOR_RGB2HLS)\n",
    "        elif color_space == 'YUV':\n",
    "            feature_image = cv2.cvtColor(img, cv2.COLOR_RGB2YUV)\n",
    "        elif color_space == 'YCrCb':\n",
    "            feature_image = cv2.cvtColor(img, cv2.COLOR_RGB2YCrCb)\n",
    "    else: feature_image = np.copy(img)             \n",
    "    features = cv2.resize(feature_image, size).ravel() \n",
    "    return features\n"
   ]
  },
  {
   "cell_type": "code",
   "execution_count": null,
   "metadata": {},
   "outputs": [],
   "source": [
    "image = mpimg.imread('data/vehicles/GTI_MiddleClose/image0100.png')\n",
    "b = bin_spatial(image)\n",
    "print ('b', b.shape, b)"
   ]
  },
  {
   "cell_type": "code",
   "execution_count": null,
   "metadata": {},
   "outputs": [],
   "source": [
    "# Define a function to return HOG features and visualization\n",
    "# Features will always be the first element of the return\n",
    "# Image data will be returned as the second element if visualize= True\n",
    "# Otherwise there is no second return element\n",
    "def get_hog_features(img, orient, pix_per_cell, cell_per_block, vis=True, \n",
    "                     feature_vec=True):\n",
    "                         \n",
    "    \"\"\"\n",
    "    Function accepts params and returns HOG features (optionally flattened) and an optional matrix for \n",
    "    visualization. Features will always be the first return (flattened if feature_vector= True).\n",
    "    A visualization matrix will be the second return if visualize = True.\n",
    "    \"\"\"\n",
    "    \n",
    "    return_list = hog(img, orientations=orient, pixels_per_cell=(pix_per_cell, pix_per_cell),\n",
    "                                  cells_per_block=(cell_per_block, cell_per_block),\n",
    "                                  block_norm= 'L2-Hys', transform_sqrt=False, \n",
    "                                  visualise= vis, feature_vector= feature_vec)\n",
    "    return return_list\n"
   ]
  },
  {
   "cell_type": "code",
   "execution_count": null,
   "metadata": {},
   "outputs": [],
   "source": [
    "image = mpimg.imread('data/vehicles/GTI_MiddleClose/image0100.png')\n",
    "hog_features = get_hog_features(image, orient=9, pix_per_cell=16, cell_per_block=2, vis=False, feature_vec=True)\n",
    "print ('hog_features', hog_features.shape)   "
   ]
  },
  {
   "cell_type": "code",
   "execution_count": null,
   "metadata": {},
   "outputs": [],
   "source": [
    "# Define a function to extract features from a list of images\n",
    "# Have this function call bin_spatial() and color_hist()\n",
    "def extract_features(imgs, orient=9, pix_per_cell=16, cell_per_block=2):\n",
    "    # Create a list to append feature vectors to\n",
    "    features = []\n",
    "    for image in imgs:\n",
    "        if isinstance(image, str):\n",
    "            image = mpimg.imread(image)\n",
    "        hog_features = []\n",
    "        feature_image = np.copy(image)\n",
    "        feature_image = cv2.cvtColor(feature_image, cv2.COLOR_RGB2GRAY)\n",
    "        hog_features.append(get_hog_features(feature_image[:,:], orient, pix_per_cell, cell_per_block, vis=False, feature_vec=True))\n",
    "        hog_features = np.ravel(hog_features)        \n",
    "        features.append(hog_features)\n",
    "    return features\n",
    "\n"
   ]
  },
  {
   "cell_type": "code",
   "execution_count": null,
   "metadata": {},
   "outputs": [],
   "source": []
  },
  {
   "cell_type": "code",
   "execution_count": null,
   "metadata": {
    "scrolled": true
   },
   "outputs": [],
   "source": [
    "features = extract_features(['./data/vehicles/GTI_MiddleClose/image0100.png'])\n",
    "print ('features', features[0].shape, features)"
   ]
  },
  {
   "cell_type": "code",
   "execution_count": null,
   "metadata": {},
   "outputs": [],
   "source": [
    "def get_dataset(directory):\n",
    "    car_filelist = []\n",
    "    notcar_filelist = []\n",
    "    \n",
    "    for path, subdirs, files in os.walk(directory):\n",
    "        for name in files:\n",
    "            if name.endswith('.png'):\n",
    "                if (os.sep + 'vehicles' + os.sep ) in path:\n",
    "                    car_filelist.append(path + os.sep + name)\n",
    "                if (os.sep + 'non-vehicles' + os.sep ) in path:\n",
    "                    notcar_filelist.append(path + os.sep + name)\n",
    "\n",
    "    return car_filelist, notcar_filelist\n"
   ]
  },
  {
   "cell_type": "code",
   "execution_count": null,
   "metadata": {},
   "outputs": [],
   "source": [
    "car_filelist, notcar_filelist = get_dataset('./data')"
   ]
  },
  {
   "cell_type": "code",
   "execution_count": null,
   "metadata": {},
   "outputs": [],
   "source": [
    "X, y, mean, scale = None, None, None, None\n",
    "\n",
    "X_train, X_test, y_train, y_test = None,  None,  None,  None\n",
    "\n",
    "if os.path.isfile('dataset.npz'):\n",
    "    print('dataset.npz exists')\n",
    "    X_scaler = preprocessing.StandardScaler()\n",
    "    dataset = np.load('dataset.npz')\n",
    "    X, y, X_scaler.mean_ , X_scaler.scale_  = dataset['X'],  dataset['y'], dataset['mean'], dataset['scale']\n",
    "else:\n",
    "    print('dataset.npz new')\n",
    "    car_features    = extract_features(car_filelist)\n",
    "    notcar_features = extract_features(notcar_filelist)\n",
    "    X = np.vstack((car_features, notcar_features)).astype(np.float64)\n",
    "    y_car = np.ones((len(car_filelist)))\n",
    "    y_notcar = np.zeros((len(notcar_filelist)))\n",
    "    y = np.hstack((y_car, y_notcar)).astype(np.int)\n",
    "    X_scaler = preprocessing.StandardScaler().fit(X)\n",
    "    X = X_scaler.transform(X)\n",
    "    np.savez_compressed('dataset.npz', X = X, y = y, mean = X_scaler.mean_, scale = X_scaler.scale_)\n"
   ]
  },
  {
   "cell_type": "code",
   "execution_count": null,
   "metadata": {},
   "outputs": [],
   "source": [
    "X_train, X_test, y_train, y_test = train_test_split(X, y, test_size=0.2, random_state=452553)\n",
    "print ('X_train.shape', X_train.shape)\n",
    "print ('y_train.shape', y_train.shape)\n",
    "print ('X_test.shape', X_test.shape)\n",
    "print ('y_test.shape', y_test.shape)\n"
   ]
  },
  {
   "cell_type": "code",
   "execution_count": null,
   "metadata": {
    "scrolled": true
   },
   "outputs": [],
   "source": [
    "model = None\n",
    "if not os.path.isfile('model.pkl'):\n",
    "    C_range = [0.200]\n",
    "    gamma_range = [0.01]\n",
    "    for C in C_range:\n",
    "        for gamma in gamma_range:\n",
    "            print ('C', C, 'gamma', gamma)\n",
    "            model = svm.SVC(kernel='rbf', C=C, gamma=gamma)\n",
    "            model.fit(X_train, y_train)\n",
    "            joblib.dump(model, 'model.pkl') \n",
    "    print ('training end')\n",
    "else:\n",
    "    model = joblib.load('model.pkl') \n",
    "\n",
    "print ('score train', model.score(X_train, y_train))\n",
    "y_train_pred = model.predict(X_train)\n",
    "print ('confusion matrix train', confusion_matrix(y_train, y_train_pred))\n",
    "print ('score test', model.score(X_test, y_test))\n",
    "y_test_pred = model.predict(X_test)\n",
    "print ('confusion matrix test', confusion_matrix(y_test, y_test_pred))\n",
    "\n"
   ]
  },
  {
   "cell_type": "code",
   "execution_count": null,
   "metadata": {},
   "outputs": [],
   "source": [
    "# Define a function that takes an image,\n",
    "# start and stop positions in both x and y, \n",
    "# window size (x and y dimensions),  \n",
    "# and overlap fraction (for both x and y)\n",
    "def slide_window(img, x_start_stop=[None, None], y_start_stop=[None, None], \n",
    "                    xy_window=(64, 64), xy_overlap=(0.5, 0.5)):\n",
    "    # If x and/or y start/stop positions not defined, set to image size\n",
    "    if x_start_stop[0] == None:\n",
    "        x_start_stop[0] = 0\n",
    "    if x_start_stop[1] == None:\n",
    "        x_start_stop[1] = img.shape[1]\n",
    "    if y_start_stop[0] == None:\n",
    "        y_start_stop[0] = 0\n",
    "    if y_start_stop[1] == None:\n",
    "        y_start_stop[1] = img.shape[0]\n",
    "    # Compute the span of the region to be searched    \n",
    "    xspan = x_start_stop[1] - x_start_stop[0]\n",
    "    yspan = y_start_stop[1] - y_start_stop[0]\n",
    "    # Compute the number of pixels per step in x/y\n",
    "    nx_pix_per_step = np.int(xy_window[0]*(1 - xy_overlap[0]))\n",
    "    ny_pix_per_step = np.int(xy_window[1]*(1 - xy_overlap[1]))\n",
    "    # Compute the number of windows in x/y\n",
    "    nx_buffer = np.int(xy_window[0]*(xy_overlap[0]))\n",
    "    ny_buffer = np.int(xy_window[1]*(xy_overlap[1]))\n",
    "    nx_windows = np.int((xspan-nx_buffer)/nx_pix_per_step) \n",
    "    ny_windows = np.int((yspan-ny_buffer)/ny_pix_per_step) \n",
    "    # Initialize a list to append window positions to\n",
    "    window_list = []\n",
    "    # Loop through finding x and y window positions\n",
    "    # Note: you could vectorize this step, but in practice\n",
    "    # you'll be considering windows one by one with your\n",
    "    # classifier, so looping makes sense\n",
    "    for ys in range(ny_windows):\n",
    "        for xs in range(nx_windows):\n",
    "            # Calculate window position\n",
    "            startx = xs*nx_pix_per_step + x_start_stop[0]\n",
    "            endx = startx + xy_window[0]\n",
    "            starty = ys*ny_pix_per_step + y_start_stop[0]\n",
    "            endy = starty + xy_window[1]\n",
    "            # Append window position to list\n",
    "            window_list.append(((startx, starty), (endx, endy)))\n",
    "    # Return the list of windows\n",
    "    return window_list"
   ]
  },
  {
   "cell_type": "code",
   "execution_count": null,
   "metadata": {},
   "outputs": [],
   "source": [
    "L = 230\n",
    "S = 64\n",
    "image = mpimg.imread('test_images/test1.jpg')\n",
    "print ('image.shape', image.shape, np.max(image))\n",
    "ii = cv2.resize(image[344:344+L,1048:1048+L], (64, 64)) \n",
    "ii = ii.astype(np.float32) / 255.0\n",
    "fig = plt.figure()\n",
    "plt.imshow(ii)\n",
    "image_features = extract_features([ii])\n",
    "image_features = X_scaler.transform(image_features)\n",
    "p = model.predict(image_features)\n",
    "print (p)"
   ]
  },
  {
   "cell_type": "code",
   "execution_count": null,
   "metadata": {
    "scrolled": true
   },
   "outputs": [],
   "source": [
    "L = 140\n",
    "S = 64\n",
    "image = mpimg.imread('test_images/test1.jpg')\n",
    "ii = cv2.resize(image[390:390+L,810:810+L], (S, S))   \n",
    "ii = ii.astype(np.float32) / 255.0\n",
    "fig = plt.figure()\n",
    "plt.imshow(ii)\n",
    "image_features = extract_features([ii])\n",
    "image_features = X_scaler.transform(image_features)\n",
    "p = model.predict(image_features)\n",
    "print (p)"
   ]
  },
  {
   "cell_type": "code",
   "execution_count": null,
   "metadata": {},
   "outputs": [],
   "source": [
    "L = 20\n",
    "S = 64\n",
    "image = mpimg.imread('test_images/test1.jpg')\n",
    "ii = cv2.resize(image[407:407+L,774:774+L], (S, S))   \n",
    "ii = ii.astype(np.float32) / 255.0\n",
    "fig = plt.figure()\n",
    "plt.imshow(ii)\n",
    "image_features = extract_features([ii])\n",
    "image_features = X_scaler.transform(image_features)\n",
    "p = model.predict(image_features)\n",
    "print (p)"
   ]
  },
  {
   "cell_type": "code",
   "execution_count": null,
   "metadata": {},
   "outputs": [],
   "source": [
    "images_features = extract_features(['data/vehicles/GTI_MiddleClose/image0100.png', 'test_images/t1.png', 'test_images/t2.png', 'test_images/t3.png', 'test_images/t4.png', 'test_images/t5.png'])\n",
    "images_features = X_scaler.transform(images_features)\n",
    "p = model.predict(images_features)\n",
    "print(p)\n"
   ]
  },
  {
   "cell_type": "code",
   "execution_count": null,
   "metadata": {},
   "outputs": [],
   "source": [
    "L = 140\n",
    "S = 64\n",
    "\n",
    "window_list = slide_window(image, x_start_stop=[0, 1280], y_start_stop=[350, 650], xy_window=(L, L), xy_overlap=(0.7, 0.7)) \n",
    "print ('len(window_list)', len(window_list))\n",
    "#print ('window_list', window_list)\n",
    "box_detected = []"
   ]
  },
  {
   "cell_type": "code",
   "execution_count": null,
   "metadata": {
    "scrolled": true
   },
   "outputs": [],
   "source": [
    "i = 0\n",
    "j = 0\n",
    "\n",
    "image_with_detection = np.copy(image)\n",
    "\n",
    "for window in window_list:\n",
    "    i = i + 1\n",
    "#    if (window[1][0] >= 720) or (window[1][1] >= 1280):\n",
    "#        continue\n",
    "    ii = cv2.resize(image[window[0][1]:window[1][1], window[0][0]:window[1][0]], (S, S))      \n",
    "    ii = ii.astype(np.float32) / 255.0\n",
    "    image_features = extract_features([ii])\n",
    "    image_features = X_scaler.transform(image_features)\n",
    "    p = model.predict(image_features)\n",
    "#    print (p)\n",
    "    if p[0] == 1:\n",
    "        print (window)\n",
    "        box_detected.append(window)\n",
    "        image_with_detection =  draw_boxes(image_with_detection, bboxes=[window], color=(0, 0, 255), thick=3)\n",
    "    j = j + 1\n",
    "print ('end', i, j)\n",
    "\n",
    "fig = plt.figure()\n",
    "plt.imshow(image_with_detection)\n"
   ]
  },
  {
   "cell_type": "code",
   "execution_count": null,
   "metadata": {},
   "outputs": [],
   "source": [
    "def add_heat(heatmap, bbox_list):\n",
    "    # Iterate through list of bboxes\n",
    "    for box in bbox_list:\n",
    "        # Add += 1 for all pixels inside each bbox\n",
    "        # Assuming each \"box\" takes the form ((x1, y1), (x2, y2))\n",
    "        heatmap[box[0][1]:box[1][1], box[0][0]:box[1][0]] += 1\n",
    "\n",
    "    # Return updated heatmap\n",
    "    return heatmap# Iterate through list of bboxes"
   ]
  },
  {
   "cell_type": "code",
   "execution_count": null,
   "metadata": {},
   "outputs": [],
   "source": [
    "def apply_threshold(heatmap, threshold):\n",
    "    # Zero out pixels below the threshold\n",
    "    heatmap[heatmap <= threshold] = 0\n",
    "    # Return thresholded map\n",
    "    return heatmap"
   ]
  },
  {
   "cell_type": "code",
   "execution_count": null,
   "metadata": {},
   "outputs": [],
   "source": [
    "def draw_labeled_bboxes(img, labels):\n",
    "    # Iterate through all detected cars\n",
    "    for car_number in range(1, labels[1]+1):\n",
    "        # Find pixels with each car_number label value\n",
    "        nonzero = (labels[0] == car_number).nonzero()\n",
    "        # Identify x and y values of those pixels\n",
    "        nonzeroy = np.array(nonzero[0])\n",
    "        nonzerox = np.array(nonzero[1])\n",
    "        # Define a bounding box based on min/max x and y\n",
    "        bbox = ((np.min(nonzerox), np.min(nonzeroy)), (np.max(nonzerox), np.max(nonzeroy)))\n",
    "        # Draw the box on the image\n",
    "        cv2.rectangle(img, bbox[0], bbox[1], (0,0,255), 3)\n",
    "    # Return the image\n",
    "    return img"
   ]
  },
  {
   "cell_type": "code",
   "execution_count": null,
   "metadata": {},
   "outputs": [],
   "source": [
    "heat = np.zeros_like(image[:,:,0]).astype(np.float)\n",
    "heat = add_heat(heat,box_detected)\n",
    "heat = apply_threshold(heat,0)\n",
    "heatmap = np.clip(heat, 0, 255)\n",
    "labels = label(heatmap)\n",
    "draw_img = draw_labeled_bboxes(np.copy(image), labels)\n",
    "fig = plt.figure()\n",
    "plt.subplot(121)\n",
    "plt.imshow(draw_img)\n",
    "plt.title('Car Positions')\n",
    "plt.subplot(122)\n",
    "plt.imshow(heatmap, cmap='hot')\n",
    "plt.title('Heat Map')\n",
    "fig.tight_layout()"
   ]
  },
  {
   "cell_type": "code",
   "execution_count": null,
   "metadata": {},
   "outputs": [],
   "source": [
    "N = 10\n",
    "box_detected_hist = []\n",
    "\n",
    "def pipeline(img):\n",
    "#    image_with_detection = np.copy(img)\n",
    "    global box_detected_hist\n",
    "    S = 64\n",
    "    box_detected = []\n",
    "    for L in [70, 100, 140, 170, 200, 250]:\n",
    "#    for L in [140]:\n",
    "        window_list = slide_window(img,  x_start_stop=[0, 1280], y_start_stop=[350, 650], xy_window=(L, L), xy_overlap=(0.85, 0.85)) \n",
    "        for window in window_list:\n",
    "            ii = cv2.resize(img[window[0][1]:window[1][1], window[0][0]:window[1][0]], (S, S))      \n",
    "            ii = ii.astype(np.float32) / 255.0\n",
    "            image_features = extract_features([ii])\n",
    "            image_features = X_scaler.transform(image_features)\n",
    "            p = model.predict(image_features)\n",
    "            if p[0] == 1:\n",
    "#            print (window)\n",
    "                box_detected.append(window)\n",
    "#                image_with_detection =  draw_boxes(image_with_detection, bboxes=[window], color=(0, 0, 255), thick=3)\n",
    "    box_detected_hist.append(box_detected)\n",
    "    if (len(box_detected_hist) > N):\n",
    "        del box_detected_hist[-1]\n",
    "    heat = np.zeros_like(img[:,:,0]).astype(np.float)\n",
    "    box_detected = []\n",
    "    for b in box_detected_hist:\n",
    "        for bb in b:\n",
    "            box_detected.append(bb)\n",
    "            \n",
    "    heat = add_heat(heat,box_detected)\n",
    "    heat = apply_threshold(heat,8)\n",
    "    heatmap = np.clip(heat, 0, 255)\n",
    "    labels = label(heatmap)\n",
    "    draw_img = draw_labeled_bboxes(np.copy(img), labels)\n",
    "        \n",
    "    return cv2.addWeighted(img, 0.8, draw_img, 1., 0.)\n",
    "\n"
   ]
  },
  {
   "cell_type": "code",
   "execution_count": null,
   "metadata": {},
   "outputs": [],
   "source": [
    "make_video = True\n",
    "if make_video:\n",
    "    white_output = 'output'  + os.sep + 'project_video.mp4'\n",
    "    clip = VideoFileClip(\"project_video.mp4\")\n",
    "    white_clip = clip.fl_image(pipeline) \n",
    "    %time white_clip.write_videofile(white_output, audio=False)"
   ]
  },
  {
   "cell_type": "code",
   "execution_count": null,
   "metadata": {},
   "outputs": [],
   "source": []
  },
  {
   "cell_type": "code",
   "execution_count": null,
   "metadata": {},
   "outputs": [],
   "source": []
  }
 ],
 "metadata": {
  "anaconda-cloud": {},
  "kernelspec": {
   "display_name": "Python 3",
   "language": "python",
   "name": "python3"
  },
  "language_info": {
   "codemirror_mode": {
    "name": "ipython",
    "version": 3
   },
   "file_extension": ".py",
   "mimetype": "text/x-python",
   "name": "python",
   "nbconvert_exporter": "python",
   "pygments_lexer": "ipython3",
   "version": "3.6.5"
  },
  "widgets": {
   "state": {},
   "version": "1.1.2"
  }
 },
 "nbformat": 4,
 "nbformat_minor": 1
}
