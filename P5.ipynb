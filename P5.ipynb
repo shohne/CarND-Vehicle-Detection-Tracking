{
 "cells": [
  {
   "cell_type": "markdown",
   "metadata": {},
   "source": [
    "## Vehicle Detection and Tracking Project\n",
    "\n",
    "The goals / steps of this project are the following:\n",
    "\n",
    "* Use color transforms, gradients, etc., to create a thresholded binary image.\n",
    "* Detect vehicles on road.\n",
    "* Output visual display of the detected cars.\n",
    "\n",
    "---\n",
    "## Camera calibration using chessboard images"
   ]
  },
  {
   "cell_type": "code",
   "execution_count": 1,
   "metadata": {},
   "outputs": [
    {
     "ename": "ImportError",
     "evalue": "dlopen(/Users/silviohohne/anaconda/envs/vehicle-detection/lib/python3.6/site-packages/PIL/_imaging.cpython-36m-darwin.so, 2): Symbol not found: _clock_gettime\n  Referenced from: /Users/silviohohne/anaconda/envs/vehicle-detection/lib/python3.6/site-packages/PIL/.dylibs/liblzma.5.dylib (which was built for Mac OS X 10.12)\n  Expected in: /usr/lib/libSystem.B.dylib\n in /Users/silviohohne/anaconda/envs/vehicle-detection/lib/python3.6/site-packages/PIL/.dylibs/liblzma.5.dylib",
     "output_type": "error",
     "traceback": [
      "\u001b[0;31m---------------------------------------------------------------------------\u001b[0m",
      "\u001b[0;31mImportError\u001b[0m                               Traceback (most recent call last)",
      "\u001b[0;32m<ipython-input-1-f298978f475d>\u001b[0m in \u001b[0;36m<module>\u001b[0;34m()\u001b[0m\n\u001b[1;32m     12\u001b[0m \u001b[0;34m\u001b[0m\u001b[0m\n\u001b[1;32m     13\u001b[0m \u001b[0;32mfrom\u001b[0m \u001b[0mskimage\u001b[0m\u001b[0;34m.\u001b[0m\u001b[0mfeature\u001b[0m \u001b[0;32mimport\u001b[0m \u001b[0mhog\u001b[0m\u001b[0;34m\u001b[0m\u001b[0m\n\u001b[0;32m---> 14\u001b[0;31m \u001b[0;32mfrom\u001b[0m \u001b[0mskimage\u001b[0m \u001b[0;32mimport\u001b[0m \u001b[0mdata\u001b[0m\u001b[0;34m,\u001b[0m \u001b[0mexposure\u001b[0m\u001b[0;34m\u001b[0m\u001b[0m\n\u001b[0m\u001b[1;32m     15\u001b[0m \u001b[0;32mfrom\u001b[0m \u001b[0msklearn\u001b[0m \u001b[0;32mimport\u001b[0m \u001b[0mpreprocessing\u001b[0m\u001b[0;34m\u001b[0m\u001b[0m\n\u001b[1;32m     16\u001b[0m \u001b[0;32mfrom\u001b[0m \u001b[0msklearn\u001b[0m\u001b[0;34m.\u001b[0m\u001b[0msvm\u001b[0m \u001b[0;32mimport\u001b[0m \u001b[0mLinearSVC\u001b[0m\u001b[0;34m\u001b[0m\u001b[0m\n",
      "\u001b[0;32m~/anaconda/envs/vehicle-detection/lib/python3.6/site-packages/skimage/data/__init__.py\u001b[0m in \u001b[0;36m<module>\u001b[0;34m()\u001b[0m\n\u001b[1;32m     14\u001b[0m \u001b[0;34m\u001b[0m\u001b[0m\n\u001b[1;32m     15\u001b[0m \u001b[0;32mfrom\u001b[0m \u001b[0;34m.\u001b[0m\u001b[0;34m.\u001b[0m \u001b[0;32mimport\u001b[0m \u001b[0mdata_dir\u001b[0m\u001b[0;34m\u001b[0m\u001b[0m\n\u001b[0;32m---> 16\u001b[0;31m \u001b[0;32mfrom\u001b[0m \u001b[0;34m.\u001b[0m\u001b[0;34m.\u001b[0m\u001b[0mio\u001b[0m \u001b[0;32mimport\u001b[0m \u001b[0mimread\u001b[0m\u001b[0;34m,\u001b[0m \u001b[0muse_plugin\u001b[0m\u001b[0;34m\u001b[0m\u001b[0m\n\u001b[0m\u001b[1;32m     17\u001b[0m \u001b[0;32mfrom\u001b[0m \u001b[0;34m.\u001b[0m\u001b[0;34m.\u001b[0m\u001b[0m_shared\u001b[0m\u001b[0;34m.\u001b[0m\u001b[0m_warnings\u001b[0m \u001b[0;32mimport\u001b[0m \u001b[0mexpected_warnings\u001b[0m\u001b[0;34m,\u001b[0m \u001b[0mwarn\u001b[0m\u001b[0;34m\u001b[0m\u001b[0m\n\u001b[1;32m     18\u001b[0m \u001b[0;32mfrom\u001b[0m \u001b[0;34m.\u001b[0m\u001b[0;34m.\u001b[0m \u001b[0;32mimport\u001b[0m \u001b[0mimg_as_bool\u001b[0m\u001b[0;34m\u001b[0m\u001b[0m\n",
      "\u001b[0;32m~/anaconda/envs/vehicle-detection/lib/python3.6/site-packages/skimage/io/__init__.py\u001b[0m in \u001b[0;36m<module>\u001b[0;34m()\u001b[0m\n\u001b[1;32m      5\u001b[0m \"\"\"\n\u001b[1;32m      6\u001b[0m \u001b[0;34m\u001b[0m\u001b[0m\n\u001b[0;32m----> 7\u001b[0;31m \u001b[0;32mfrom\u001b[0m \u001b[0;34m.\u001b[0m\u001b[0mmanage_plugins\u001b[0m \u001b[0;32mimport\u001b[0m \u001b[0;34m*\u001b[0m\u001b[0;34m\u001b[0m\u001b[0m\n\u001b[0m\u001b[1;32m      8\u001b[0m \u001b[0;32mfrom\u001b[0m \u001b[0;34m.\u001b[0m\u001b[0msift\u001b[0m \u001b[0;32mimport\u001b[0m \u001b[0;34m*\u001b[0m\u001b[0;34m\u001b[0m\u001b[0m\n\u001b[1;32m      9\u001b[0m \u001b[0;32mfrom\u001b[0m \u001b[0;34m.\u001b[0m\u001b[0mcollection\u001b[0m \u001b[0;32mimport\u001b[0m \u001b[0;34m*\u001b[0m\u001b[0;34m\u001b[0m\u001b[0m\n",
      "\u001b[0;32m~/anaconda/envs/vehicle-detection/lib/python3.6/site-packages/skimage/io/manage_plugins.py\u001b[0m in \u001b[0;36m<module>\u001b[0;34m()\u001b[0m\n\u001b[1;32m     26\u001b[0m \u001b[0;32mfrom\u001b[0m \u001b[0mglob\u001b[0m \u001b[0;32mimport\u001b[0m \u001b[0mglob\u001b[0m\u001b[0;34m\u001b[0m\u001b[0m\n\u001b[1;32m     27\u001b[0m \u001b[0;34m\u001b[0m\u001b[0m\n\u001b[0;32m---> 28\u001b[0;31m \u001b[0;32mfrom\u001b[0m \u001b[0;34m.\u001b[0m\u001b[0mcollection\u001b[0m \u001b[0;32mimport\u001b[0m \u001b[0mimread_collection_wrapper\u001b[0m\u001b[0;34m\u001b[0m\u001b[0m\n\u001b[0m\u001b[1;32m     29\u001b[0m \u001b[0;34m\u001b[0m\u001b[0m\n\u001b[1;32m     30\u001b[0m \u001b[0;34m\u001b[0m\u001b[0m\n",
      "\u001b[0;32m~/anaconda/envs/vehicle-detection/lib/python3.6/site-packages/skimage/io/collection.py\u001b[0m in \u001b[0;36m<module>\u001b[0;34m()\u001b[0m\n\u001b[1;32m     10\u001b[0m \u001b[0;32mimport\u001b[0m \u001b[0mnumpy\u001b[0m \u001b[0;32mas\u001b[0m \u001b[0mnp\u001b[0m\u001b[0;34m\u001b[0m\u001b[0m\n\u001b[1;32m     11\u001b[0m \u001b[0;32mimport\u001b[0m \u001b[0msix\u001b[0m\u001b[0;34m\u001b[0m\u001b[0m\n\u001b[0;32m---> 12\u001b[0;31m \u001b[0;32mfrom\u001b[0m \u001b[0mPIL\u001b[0m \u001b[0;32mimport\u001b[0m \u001b[0mImage\u001b[0m\u001b[0;34m\u001b[0m\u001b[0m\n\u001b[0m\u001b[1;32m     13\u001b[0m \u001b[0;34m\u001b[0m\u001b[0m\n\u001b[1;32m     14\u001b[0m \u001b[0;32mfrom\u001b[0m \u001b[0;34m.\u001b[0m\u001b[0;34m.\u001b[0m\u001b[0mexternal\u001b[0m\u001b[0;34m.\u001b[0m\u001b[0mtifffile\u001b[0m \u001b[0;32mimport\u001b[0m \u001b[0mTiffFile\u001b[0m\u001b[0;34m\u001b[0m\u001b[0m\n",
      "\u001b[0;32m~/anaconda/envs/vehicle-detection/lib/python3.6/site-packages/PIL/Image.py\u001b[0m in \u001b[0;36m<module>\u001b[0;34m()\u001b[0m\n\u001b[1;32m     58\u001b[0m     \u001b[0;31m# Also note that Image.core is not a publicly documented interface,\u001b[0m\u001b[0;34m\u001b[0m\u001b[0;34m\u001b[0m\u001b[0m\n\u001b[1;32m     59\u001b[0m     \u001b[0;31m# and should be considered private and subject to change.\u001b[0m\u001b[0;34m\u001b[0m\u001b[0;34m\u001b[0m\u001b[0m\n\u001b[0;32m---> 60\u001b[0;31m     \u001b[0;32mfrom\u001b[0m \u001b[0;34m.\u001b[0m \u001b[0;32mimport\u001b[0m \u001b[0m_imaging\u001b[0m \u001b[0;32mas\u001b[0m \u001b[0mcore\u001b[0m\u001b[0;34m\u001b[0m\u001b[0m\n\u001b[0m\u001b[1;32m     61\u001b[0m     \u001b[0;32mif\u001b[0m \u001b[0mPILLOW_VERSION\u001b[0m \u001b[0;34m!=\u001b[0m \u001b[0mgetattr\u001b[0m\u001b[0;34m(\u001b[0m\u001b[0mcore\u001b[0m\u001b[0;34m,\u001b[0m \u001b[0;34m'PILLOW_VERSION'\u001b[0m\u001b[0;34m,\u001b[0m \u001b[0;32mNone\u001b[0m\u001b[0;34m)\u001b[0m\u001b[0;34m:\u001b[0m\u001b[0;34m\u001b[0m\u001b[0m\n\u001b[1;32m     62\u001b[0m         raise ImportError(\"The _imaging extension was built for another \"\n",
      "\u001b[0;31mImportError\u001b[0m: dlopen(/Users/silviohohne/anaconda/envs/vehicle-detection/lib/python3.6/site-packages/PIL/_imaging.cpython-36m-darwin.so, 2): Symbol not found: _clock_gettime\n  Referenced from: /Users/silviohohne/anaconda/envs/vehicle-detection/lib/python3.6/site-packages/PIL/.dylibs/liblzma.5.dylib (which was built for Mac OS X 10.12)\n  Expected in: /usr/lib/libSystem.B.dylib\n in /Users/silviohohne/anaconda/envs/vehicle-detection/lib/python3.6/site-packages/PIL/.dylibs/liblzma.5.dylib"
     ]
    }
   ],
   "source": [
    "import numpy as np\n",
    "import cv2\n",
    "import glob\n",
    "import os\n",
    "import matplotlib.pyplot as plt\n",
    "%matplotlib inline\n",
    "import matplotlib.image as mpimg\n",
    "from moviepy.editor import VideoFileClip\n",
    "from IPython.display import HTML\n",
    "import zipfile\n",
    "\n",
    "\n",
    "from skimage.feature import hog\n",
    "from skimage import data, exposure\n",
    "from sklearn import preprocessing\n",
    "from sklearn.svm import LinearSVC\n",
    "from sklearn.datasets import make_classification\n",
    "from sklearn import svm\n",
    "from sklearn.model_selection import train_test_split\n",
    "from sklearn.externals import joblib\n",
    "from sklearn.metrics import confusion_matrix"
   ]
  },
  {
   "cell_type": "code",
   "execution_count": null,
   "metadata": {},
   "outputs": [],
   "source": [
    "def draw_boxes(img, bboxes, color=(0, 0, 255), thick=6):\n",
    "    draw_img = np.copy(img)\n",
    "    for (x1,y1),(x2,y2) in bboxes:\n",
    "        cv2.rectangle(draw_img, (x1, y1), (x2, y2), color, thick)\n",
    "    return draw_img # Change this line to return image copy with boxes\n",
    "\n"
   ]
  },
  {
   "cell_type": "code",
   "execution_count": null,
   "metadata": {},
   "outputs": [],
   "source": [
    "def color_hist(image, nbins=32, bins_range=(0, 256)):\n",
    "    rhist = np.histogram(image[:,:,0], bins=32, range=(0, 1.0))\n",
    "    ghist = np.histogram(image[:,:,1], bins=32, range=(0, 1.0))\n",
    "    bhist = np.histogram(image[:,:,2], bins=32, range=(0, 1.0))\n",
    "    bin_edges = rhist[1]\n",
    "    bin_centers = (bin_edges[1:]  + bin_edges[0:len(bin_edges)-1])/2\n",
    "    hist_features = np.concatenate((rhist[0], ghist[0], bhist[0]))\n",
    "    # Return the individual histograms, bin_centers and feature vector\n",
    "    return rhist, ghist, bhist, bin_centers, hist_features"
   ]
  },
  {
   "cell_type": "code",
   "execution_count": null,
   "metadata": {},
   "outputs": [],
   "source": [
    "if not os.path.isfile('data' + os.sep + 'vehicles' + os.sep + 'GTI_MiddleClose' + os.sep + 'image0003.png'):\n",
    "    zip_ref = zipfile.ZipFile('data' + os.sep + 'vehicles.zip', 'r')\n",
    "    zip_ref.extractall()\n",
    "    zip_ref.close()\n",
    "if not os.path.isfile('data' + os.sep + 'non-vehicles' + os.sep + 'GTI' + os.sep + 'image1.png'):\n",
    "    zip_ref = zipfile.ZipFile('data' + os.sep + 'non-vehicles.zip', 'r')\n",
    "    zip_ref.extractall()\n",
    "    zip_ref.close()"
   ]
  },
  {
   "cell_type": "code",
   "execution_count": null,
   "metadata": {},
   "outputs": [],
   "source": [
    "image = mpimg.imread('data/vehicles/GTI_MiddleClose/image0003.png')\n",
    "_, _, _, _, hist_features = color_hist(image, nbins=32, bins_range=(0, 256))\n",
    "#print ('image', image)\n",
    "print ('hist_features', hist_features.shape, hist_features)"
   ]
  },
  {
   "cell_type": "code",
   "execution_count": null,
   "metadata": {},
   "outputs": [],
   "source": [
    "def bin_spatial(img, color_space='RGB', size=(32, 32)):\n",
    "    # Convert image to new color space (if specified)\n",
    "    if color_space != 'RGB':\n",
    "        if color_space == 'HSV':\n",
    "            feature_image = cv2.cvtColor(img, cv2.COLOR_RGB2HSV)\n",
    "        elif color_space == 'LUV':\n",
    "            feature_image = cv2.cvtColor(img, cv2.COLOR_RGB2LUV)\n",
    "        elif color_space == 'HLS':\n",
    "            feature_image = cv2.cvtColor(img, cv2.COLOR_RGB2HLS)\n",
    "        elif color_space == 'YUV':\n",
    "            feature_image = cv2.cvtColor(img, cv2.COLOR_RGB2YUV)\n",
    "        elif color_space == 'YCrCb':\n",
    "            feature_image = cv2.cvtColor(img, cv2.COLOR_RGB2YCrCb)\n",
    "    else: feature_image = np.copy(img)             \n",
    "    # Use cv2.resize().ravel() to create the feature vector\n",
    "    features = cv2.resize(feature_image, size).ravel() \n",
    "    # Return the feature vector\n",
    "    return features\n"
   ]
  },
  {
   "cell_type": "code",
   "execution_count": null,
   "metadata": {},
   "outputs": [],
   "source": [
    "# Define a function to return HOG features and visualization\n",
    "# Features will always be the first element of the return\n",
    "# Image data will be returned as the second element if visualize= True\n",
    "# Otherwise there is no second return element\n",
    "def get_hog_features(img, orient, pix_per_cell, cell_per_block, vis=True, \n",
    "                     feature_vec=True):\n",
    "                         \n",
    "    \"\"\"\n",
    "    Function accepts params and returns HOG features (optionally flattened) and an optional matrix for \n",
    "    visualization. Features will always be the first return (flattened if feature_vector= True).\n",
    "    A visualization matrix will be the second return if visualize = True.\n",
    "    \"\"\"\n",
    "    \n",
    "    return_list = hog(img, orientations=orient, pixels_per_cell=(pix_per_cell, pix_per_cell),\n",
    "                                  cells_per_block=(cell_per_block, cell_per_block),\n",
    "                                  block_norm= 'L2-Hys', transform_sqrt=False, \n",
    "                                  visualise= vis, feature_vector= feature_vec)\n",
    "    \n",
    "    # name returns explicitly\n",
    "    hog_features = return_list[0]\n",
    "    if vis:\n",
    "        hog_image = return_list[1]\n",
    "        return hog_features, hog_image\n",
    "    else:\n",
    "        return hog_features"
   ]
  },
  {
   "cell_type": "code",
   "execution_count": null,
   "metadata": {},
   "outputs": [],
   "source": [
    "image = mpimg.imread('data/vehicles/GTI_MiddleClose/image0003.png')\n",
    "hog_features = get_hog_features(image, orient=9, pix_per_cell=8, cell_per_block=2, vis=False, feature_vec=True)\n",
    "print ('hog_features', hog_features)   "
   ]
  },
  {
   "cell_type": "code",
   "execution_count": null,
   "metadata": {},
   "outputs": [],
   "source": [
    "# Define a function to extract features from a list of images\n",
    "# Have this function call bin_spatial() and color_hist()\n",
    "def extract_features(imgs, orient=9, pix_per_cell=8, cell_per_block=2):\n",
    "    # Create a list to append feature vectors to\n",
    "    features = []\n",
    "    # Iterate through the list of images\n",
    "    for file in imgs:\n",
    "        # Read in each one by one\n",
    "        image = mpimg.imread(file)\n",
    "        _, _, _, _, hist_features = color_hist(image)\n",
    "        hog_features = []\n",
    "        hog_features.extend(hist_features.tolist())\n",
    "\n",
    "        for colorspace in ['RGB','HSV','LUV','HLS','YUV', 'YCrCb']:\n",
    "            feature_image = np.copy(image)\n",
    "            if colorspace == 'HSV':\n",
    "                feature_image = cv2.cvtColor(feature_image, cv2.COLOR_RGB2HSV)\n",
    "            elif colorspace == 'LUV':\n",
    "                feature_image = cv2.cvtColor(feature_image, cv2.COLOR_RGB2LUV)\n",
    "            elif colorspace == 'HLS':\n",
    "                feature_image = cv2.cvtColor(feature_image, cv2.COLOR_RGB2HLS)\n",
    "            elif colorspace == 'YUV':\n",
    "                feature_image = cv2.cvtColor(feature_image, cv2.COLOR_RGB2YUV)\n",
    "            elif colorspace == 'YCrCb':\n",
    "                feature_image = cv2.cvtColor(feature_image, cv2.COLOR_RGB2YCrCb)\n",
    "            \n",
    "            for channel in range(feature_image.shape[2]):\n",
    "                hog_features.append(get_hog_features(feature_image[:,:,channel], \n",
    "                                    orient, pix_per_cell, cell_per_block, \n",
    "                                    vis=False, feature_vec=True))\n",
    "\n",
    "        hog_features = np.ravel(hog_features)        \n",
    "\n",
    "        # Append the new feature vector to the features list\n",
    "        features.append(hog_features)\n",
    "    # Return list of feature vectors\n",
    "    return features"
   ]
  },
  {
   "cell_type": "code",
   "execution_count": null,
   "metadata": {},
   "outputs": [],
   "source": [
    "features = extract_features(['./data/vehicles/GTI_MiddleClose/image0003.png'])\n",
    "print ('features', features)"
   ]
  },
  {
   "cell_type": "code",
   "execution_count": null,
   "metadata": {},
   "outputs": [],
   "source": [
    "def pipeline(img):\n",
    "    return img"
   ]
  },
  {
   "cell_type": "code",
   "execution_count": null,
   "metadata": {},
   "outputs": [],
   "source": [
    "def process_image(img):\n",
    "    img_und = cv2.undistort(img, mtx, dist, None, mtx)\n",
    "    bboxes = [((100, 100), (200, 200)), ((300, 300), (400, 400))]\n",
    "    img_box = draw_boxes(img_und, bboxes)\n",
    "    return img_box"
   ]
  },
  {
   "cell_type": "code",
   "execution_count": null,
   "metadata": {},
   "outputs": [],
   "source": [
    "#img = mpimg.imread('test_images/test1.jpg')\n",
    "\n",
    "#rh, gh, bh, bincen, feature_vec = color_hist(img, nbins=32, bins_range=(0, 256))\n",
    "#fig = plt.figure(figsize=(12,3))\n",
    "#plt.subplot(131)\n",
    "#plt.bar(bincen, rh[0])\n",
    "#plt.xlim(0, 256)\n",
    "#plt.title('R Histogram')\n",
    "#plt.subplot(132)\n",
    "#plt.bar(bincen, gh[0])\n",
    "#plt.xlim(0, 256)\n",
    "#plt.title('G Histogram')\n",
    "#plt.subplot(133)\n",
    "#plt.bar(bincen, bh[0])\n",
    "#plt.xlim(0, 256)\n",
    "#plt.title('B Histogram')\n",
    "#fig.tight_layout()\n"
   ]
  },
  {
   "cell_type": "code",
   "execution_count": null,
   "metadata": {},
   "outputs": [],
   "source": [
    "#image = mpimg.imread('test_images/test1.jpg')\n",
    "#gray = cv2.cvtColor(image, cv2.COLOR_BGR2GRAY)\n",
    "\n",
    "# Call our function with vis=True to see an image output\n",
    "#features, hog_image = get_hog_features(gray, orient= 9, pix_per_cell= 8, cell_per_block= 2, vis=True, feature_vec=False)\n",
    "\n",
    "\n",
    "# Plot the examples\n",
    "#fig = plt.figure()\n",
    "#plt.subplot(121)\n",
    "#plt.imshow(image, cmap='gray')\n",
    "#plt.title('Example Car Image')\n",
    "#plt.subplot(122)\n",
    "#plt.imshow(hog_image, cmap='gray')\n",
    "#plt.title('HOG Visualization')\n"
   ]
  },
  {
   "cell_type": "code",
   "execution_count": null,
   "metadata": {},
   "outputs": [],
   "source": [
    "def get_dataset(directory):\n",
    "    car_filelist = []\n",
    "    notcar_filelist = []\n",
    "    \n",
    "    for path, subdirs, files in os.walk(directory):\n",
    "        for name in files:\n",
    "            if name.endswith('.png'):\n",
    "#                print (path, subdirs, name)\n",
    "                if (os.sep + 'vehicles' + os.sep ) in path:\n",
    "                    car_filelist.append(path + os.sep + name)\n",
    "                if (os.sep + 'non-vehicles' + os.sep ) in path:\n",
    "                    notcar_filelist.append(path + os.sep + name)\n",
    "\n",
    "    return car_filelist, notcar_filelist\n"
   ]
  },
  {
   "cell_type": "code",
   "execution_count": null,
   "metadata": {},
   "outputs": [],
   "source": [
    "car_filelist, notcar_filelist = get_dataset('./data')"
   ]
  },
  {
   "cell_type": "code",
   "execution_count": null,
   "metadata": {},
   "outputs": [],
   "source": [
    "#print ('car', len(car_filelist), car_filelist)"
   ]
  },
  {
   "cell_type": "code",
   "execution_count": null,
   "metadata": {},
   "outputs": [],
   "source": [
    "#print ('car', len(notcar_filelist), notcar_filelist)"
   ]
  },
  {
   "cell_type": "code",
   "execution_count": null,
   "metadata": {},
   "outputs": [],
   "source": [
    "#print ('car')\n",
    "#for i  in range(len(car_filelist)):\n",
    "#    car_file =  car_filelist[i]\n",
    "#    image = mpimg.imread(car_file)\n",
    "#    print (car_file, image.shape)"
   ]
  },
  {
   "cell_type": "code",
   "execution_count": null,
   "metadata": {},
   "outputs": [],
   "source": [
    "#for i  in range(len(car_filelist)):\n",
    "#    car_file =  car_filelist[i]\n",
    "#    image = mpimg.imread(car_file)\n",
    "#    if i % 1090 == 34:\n",
    "#        fig = plt.figure()\n",
    "#        plt.imshow(image)"
   ]
  },
  {
   "cell_type": "code",
   "execution_count": null,
   "metadata": {},
   "outputs": [],
   "source": [
    "#print ('notcar')\n",
    "#for i in range(len(notcar_filelist)):\n",
    "#    notcar_file =  notcar_filelist[i]\n",
    "#    image = mpimg.imread(notcar_file)\n",
    "#    print (notcar_file, image.shape)"
   ]
  },
  {
   "cell_type": "code",
   "execution_count": null,
   "metadata": {},
   "outputs": [],
   "source": [
    "#for i  in range(len(notcar_filelist)):\n",
    "#    notcar_file =  notcar_filelist[i]\n",
    "#    image = mpimg.imread(notcar_file)\n",
    "#    if i % 1000 == 34:\n",
    "#        fig = plt.figure()\n",
    "#        plt.imshow(image)"
   ]
  },
  {
   "cell_type": "code",
   "execution_count": null,
   "metadata": {},
   "outputs": [],
   "source": [
    "X, y, mean, scale = None, None, None, None\n",
    "\n",
    "X_train, X_test, y_train, y_test = None,  None,  None,  None\n",
    "\n",
    "if os.path.isfile('dataset.npz'):\n",
    "    print('dataset.npz exists')\n",
    "    X_scaler = preprocessing.StandardScaler()\n",
    "    dataset = np.load('dataset.npz')\n",
    "    X, y, X_scaler.mean_ , X_scaler.scale_  = dataset['X'],  dataset['y'], dataset['mean'], dataset['scale']\n",
    "else:\n",
    "    print('dataset.npz new')\n",
    "    car_features    = extract_features(car_filelist)\n",
    "    notcar_features = extract_features(notcar_filelist)\n",
    "    X = np.vstack((car_features, notcar_features)).astype(np.float64)\n",
    "    y_car = np.ones((len(car_filelist)))\n",
    "    y_notcar = np.zeros((len(notcar_filelist)))\n",
    "    y = np.hstack((y_car, y_notcar)).astype(np.int)\n",
    "    X_scaler = preprocessing.StandardScaler().fit(X)\n",
    "    X = X_scaler.transform(X)\n",
    "    np.savez_compressed('dataset.npz', X = X, y = y, mean = X_scaler.mean_, scale = X_scaler.scale_)\n"
   ]
  },
  {
   "cell_type": "code",
   "execution_count": null,
   "metadata": {},
   "outputs": [],
   "source": [
    "X_train, X_test, y_train, y_test = train_test_split(X, y, test_size=0.2, random_state=452553)\n",
    "print ('X_train.shape', X_train.shape)\n",
    "print ('y_train.shape', y_train.shape)\n",
    "print ('X_test.shape', X_test.shape)\n",
    "print ('y_test.shape', y_test.shape)\n"
   ]
  },
  {
   "cell_type": "code",
   "execution_count": null,
   "metadata": {},
   "outputs": [],
   "source": [
    "C_range = [0.235]\n",
    "gamma_range = [0.03]\n",
    "#C_range = [0.230, 0.235, 0.240, 0.245]\n",
    "#gamma_range = [0.020, 0.025, 0.030, 0.035]\n",
    "for C in C_range:\n",
    "    for gamma in gamma_range:\n",
    "        svc = svm.SVC(kernel='rbf', C=C, gamma=gamma)\n",
    "#        svc = LinearSVC()\n",
    "        svc.fit(X_train, y_train)\n",
    "        print ('C', C, 'gamma', gamma)\n",
    "        print ('score train', svc.score(X_train, y_train))\n",
    "        print ('score test', svc.score(X_test, y_test))\n",
    "        joblib.dump(svc, 'model.pkl') \n",
    "'''\n",
    "C = 0.99 \n",
    "gamma = 25.5\n",
    "svc = svm.SVC(kernel='rbf', C=C, gamma=gamma)\n",
    "svc.fit(X, y)\n",
    "\n",
    "svc.score(X_train, y_train)\n",
    "confusion_matrix(y_true, y_pred, labels=[\"ant\", \"bird\", \"cat\"])\n",
    "'''\n",
    "print ('training end')"
   ]
  },
  {
   "cell_type": "code",
   "execution_count": null,
   "metadata": {},
   "outputs": [],
   "source": []
  },
  {
   "cell_type": "code",
   "execution_count": null,
   "metadata": {},
   "outputs": [],
   "source": [
    "make_video = False\n",
    "if make_video:\n",
    "    white_output = 'output'  + os.sep + 'project_video.mp4'\n",
    "    clip = VideoFileClip(\"project_video.mp4\")\n",
    "    white_clip = clip.fl_image(process_image) \n",
    "    %time white_clip.write_videofile(white_output, audio=False)"
   ]
  },
  {
   "cell_type": "code",
   "execution_count": null,
   "metadata": {},
   "outputs": [],
   "source": []
  },
  {
   "cell_type": "code",
   "execution_count": null,
   "metadata": {},
   "outputs": [],
   "source": []
  }
 ],
 "metadata": {
  "anaconda-cloud": {},
  "kernelspec": {
   "display_name": "Python 3",
   "language": "python",
   "name": "python3"
  },
  "language_info": {
   "codemirror_mode": {
    "name": "ipython",
    "version": 3
   },
   "file_extension": ".py",
   "mimetype": "text/x-python",
   "name": "python",
   "nbconvert_exporter": "python",
   "pygments_lexer": "ipython3",
   "version": "3.6.2"
  },
  "widgets": {
   "state": {},
   "version": "1.1.2"
  }
 },
 "nbformat": 4,
 "nbformat_minor": 1
}
