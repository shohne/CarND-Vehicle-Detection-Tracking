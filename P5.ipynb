{
 "cells": [
  {
   "cell_type": "markdown",
   "metadata": {},
   "source": [
    "## Vehicle Detection and Tracking Project\n",
    "\n",
    "The goals / steps of this project are the following:\n",
    "\n",
    "* Use color transforms, gradients, etc., to create a thresholded binary image.\n",
    "* Detect vehicles on road.\n",
    "* Output visual display of the detected cars.\n",
    "\n",
    "---\n",
    "## Camera calibration using chessboard images"
   ]
  },
  {
   "cell_type": "code",
   "execution_count": 1,
   "metadata": {},
   "outputs": [],
   "source": [
    "import numpy as np\n",
    "import cv2\n",
    "import glob\n",
    "import os\n",
    "import matplotlib.pyplot as plt\n",
    "%matplotlib inline\n",
    "import matplotlib.image as mpimg\n",
    "from moviepy.editor import VideoFileClip\n",
    "from IPython.display import HTML\n",
    "\n",
    "from skimage.feature import hog\n",
    "from skimage import data, exposure\n",
    "from sklearn import preprocessing\n",
    "from sklearn.svm import LinearSVC\n",
    "from sklearn.datasets import make_classification\n",
    "from sklearn import svm\n",
    "from sklearn.model_selection import train_test_split\n",
    "from sklearn.externals import joblib\n",
    "from sklearn.metrics import confusion_matrix"
   ]
  },
  {
   "cell_type": "code",
   "execution_count": 2,
   "metadata": {},
   "outputs": [],
   "source": [
    "def draw_boxes(img, bboxes, color=(0, 0, 255), thick=6):\n",
    "    draw_img = np.copy(img)\n",
    "    for (x1,y1),(x2,y2) in bboxes:\n",
    "        cv2.rectangle(draw_img, (x1, y1), (x2, y2), color, thick)\n",
    "    return draw_img # Change this line to return image copy with boxes\n",
    "\n"
   ]
  },
  {
   "cell_type": "code",
   "execution_count": 3,
   "metadata": {},
   "outputs": [],
   "source": [
    "def color_hist(image, nbins=32, bins_range=(0, 256)):\n",
    "    rhist = np.histogram(image[:,:,0], bins=32, range=(0, 1.0))\n",
    "    ghist = np.histogram(image[:,:,1], bins=32, range=(0, 1.0))\n",
    "    bhist = np.histogram(image[:,:,2], bins=32, range=(0, 1.0))\n",
    "    bin_edges = rhist[1]\n",
    "    bin_centers = (bin_edges[1:]  + bin_edges[0:len(bin_edges)-1])/2\n",
    "    hist_features = np.concatenate((rhist[0], ghist[0], bhist[0]))\n",
    "    # Return the individual histograms, bin_centers and feature vector\n",
    "    return rhist, ghist, bhist, bin_centers, hist_features"
   ]
  },
  {
   "cell_type": "code",
   "execution_count": 4,
   "metadata": {},
   "outputs": [
    {
     "name": "stdout",
     "output_type": "stream",
     "text": [
      "hist_features (96,) [  0   0   0  23 549 600 444 434 262 217 175 171 154 155 124 112 106 114\n",
      " 100  91 115  79  27  21  19   2   0   0   2   0   0   0   0   0   0   0\n",
      "   4 377 804 414 335 400 293 194 186 147 112 110 100  97 114 125 141  61\n",
      "  29  26  22   3   0   0   2   0   0   0   0   0   0   0  18 326 522 577\n",
      " 402 370 374 253 232 167 126 100 135 147 126  59  77  43  32   5   2   1\n",
      "   0   1   1   0   0   0]\n"
     ]
    }
   ],
   "source": [
    "image = mpimg.imread('data/vehicles/GTI_MiddleClose/image0003.png')\n",
    "_, _, _, _, hist_features = color_hist(image, nbins=32, bins_range=(0, 256))\n",
    "#print ('image', image)\n",
    "print ('hist_features', hist_features.shape, hist_features)"
   ]
  },
  {
   "cell_type": "code",
   "execution_count": 5,
   "metadata": {},
   "outputs": [],
   "source": [
    "def bin_spatial(img, color_space='RGB', size=(32, 32)):\n",
    "    # Convert image to new color space (if specified)\n",
    "    if color_space != 'RGB':\n",
    "        if color_space == 'HSV':\n",
    "            feature_image = cv2.cvtColor(img, cv2.COLOR_RGB2HSV)\n",
    "        elif color_space == 'LUV':\n",
    "            feature_image = cv2.cvtColor(img, cv2.COLOR_RGB2LUV)\n",
    "        elif color_space == 'HLS':\n",
    "            feature_image = cv2.cvtColor(img, cv2.COLOR_RGB2HLS)\n",
    "        elif color_space == 'YUV':\n",
    "            feature_image = cv2.cvtColor(img, cv2.COLOR_RGB2YUV)\n",
    "        elif color_space == 'YCrCb':\n",
    "            feature_image = cv2.cvtColor(img, cv2.COLOR_RGB2YCrCb)\n",
    "    else: feature_image = np.copy(img)             \n",
    "    # Use cv2.resize().ravel() to create the feature vector\n",
    "    features = cv2.resize(feature_image, size).ravel() \n",
    "    # Return the feature vector\n",
    "    return features\n"
   ]
  },
  {
   "cell_type": "code",
   "execution_count": 6,
   "metadata": {},
   "outputs": [],
   "source": [
    "# Define a function to return HOG features and visualization\n",
    "# Features will always be the first element of the return\n",
    "# Image data will be returned as the second element if visualize= True\n",
    "# Otherwise there is no second return element\n",
    "def get_hog_features(img, orient, pix_per_cell, cell_per_block, vis=True, \n",
    "                     feature_vec=True):\n",
    "                         \n",
    "    \"\"\"\n",
    "    Function accepts params and returns HOG features (optionally flattened) and an optional matrix for \n",
    "    visualization. Features will always be the first return (flattened if feature_vector= True).\n",
    "    A visualization matrix will be the second return if visualize = True.\n",
    "    \"\"\"\n",
    "    \n",
    "    return_list = hog(img, orientations=orient, pixels_per_cell=(pix_per_cell, pix_per_cell),\n",
    "                                  cells_per_block=(cell_per_block, cell_per_block),\n",
    "                                  block_norm= 'L2-Hys', transform_sqrt=False, \n",
    "                                  visualise= vis, feature_vector= feature_vec)\n",
    "    \n",
    "    # name returns explicitly\n",
    "    hog_features = return_list[0]\n",
    "    if vis:\n",
    "        hog_image = return_list[1]\n",
    "        return hog_features, hog_image\n",
    "    else:\n",
    "        return hog_features"
   ]
  },
  {
   "cell_type": "code",
   "execution_count": 7,
   "metadata": {},
   "outputs": [
    {
     "name": "stdout",
     "output_type": "stream",
     "text": [
      "hog_features 0.18712957380649947\n"
     ]
    }
   ],
   "source": [
    "image = mpimg.imread('data/vehicles/GTI_MiddleClose/image0003.png')\n",
    "hog_features = get_hog_features(image, orient=9, pix_per_cell=8, cell_per_block=2, vis=False, feature_vec=True)\n",
    "print ('hog_features', hog_features)   "
   ]
  },
  {
   "cell_type": "code",
   "execution_count": 8,
   "metadata": {},
   "outputs": [],
   "source": [
    "# Define a function to extract features from a list of images\n",
    "# Have this function call bin_spatial() and color_hist()\n",
    "def extract_features(imgs, orient=9, pix_per_cell=8, cell_per_block=2):\n",
    "    # Create a list to append feature vectors to\n",
    "    features = []\n",
    "    # Iterate through the list of images\n",
    "    for file in imgs:\n",
    "        # Read in each one by one\n",
    "        image = mpimg.imread(file)\n",
    "        _, _, _, _, hist_features = color_hist(image)\n",
    "        hog_features = []\n",
    "        hog_features.extend(hist_features.tolist())\n",
    "\n",
    "        for colorspace in ['RGB','HSV','LUV','HLS','YUV', 'YCrCb']:\n",
    "            feature_image = np.copy(image)\n",
    "            if colorspace == 'HSV':\n",
    "                feature_image = cv2.cvtColor(feature_image, cv2.COLOR_RGB2HSV)\n",
    "            elif colorspace == 'LUV':\n",
    "                feature_image = cv2.cvtColor(feature_image, cv2.COLOR_RGB2LUV)\n",
    "            elif colorspace == 'HLS':\n",
    "                feature_image = cv2.cvtColor(feature_image, cv2.COLOR_RGB2HLS)\n",
    "            elif colorspace == 'YUV':\n",
    "                feature_image = cv2.cvtColor(feature_image, cv2.COLOR_RGB2YUV)\n",
    "            elif colorspace == 'YCrCb':\n",
    "                feature_image = cv2.cvtColor(feature_image, cv2.COLOR_RGB2YCrCb)\n",
    "            \n",
    "            for channel in range(feature_image.shape[2]):\n",
    "                hog_features.append(get_hog_features(feature_image[:,:,channel], \n",
    "                                    orient, pix_per_cell, cell_per_block, \n",
    "                                    vis=False, feature_vec=True))\n",
    "\n",
    "        hog_features = np.ravel(hog_features)        \n",
    "\n",
    "        # Append the new feature vector to the features list\n",
    "        features.append(hog_features)\n",
    "    # Return list of feature vectors\n",
    "    return features"
   ]
  },
  {
   "cell_type": "code",
   "execution_count": 9,
   "metadata": {},
   "outputs": [
    {
     "name": "stdout",
     "output_type": "stream",
     "text": [
      "features [array([0.00000000e+00, 0.00000000e+00, 0.00000000e+00, 2.30000000e+01,\n",
      "       5.49000000e+02, 6.00000000e+02, 4.44000000e+02, 4.34000000e+02,\n",
      "       2.62000000e+02, 2.17000000e+02, 1.75000000e+02, 1.71000000e+02,\n",
      "       1.54000000e+02, 1.55000000e+02, 1.24000000e+02, 1.12000000e+02,\n",
      "       1.06000000e+02, 1.14000000e+02, 1.00000000e+02, 9.10000000e+01,\n",
      "       1.15000000e+02, 7.90000000e+01, 2.70000000e+01, 2.10000000e+01,\n",
      "       1.90000000e+01, 2.00000000e+00, 0.00000000e+00, 0.00000000e+00,\n",
      "       2.00000000e+00, 0.00000000e+00, 0.00000000e+00, 0.00000000e+00,\n",
      "       0.00000000e+00, 0.00000000e+00, 0.00000000e+00, 0.00000000e+00,\n",
      "       4.00000000e+00, 3.77000000e+02, 8.04000000e+02, 4.14000000e+02,\n",
      "       3.35000000e+02, 4.00000000e+02, 2.93000000e+02, 1.94000000e+02,\n",
      "       1.86000000e+02, 1.47000000e+02, 1.12000000e+02, 1.10000000e+02,\n",
      "       1.00000000e+02, 9.70000000e+01, 1.14000000e+02, 1.25000000e+02,\n",
      "       1.41000000e+02, 6.10000000e+01, 2.90000000e+01, 2.60000000e+01,\n",
      "       2.20000000e+01, 3.00000000e+00, 0.00000000e+00, 0.00000000e+00,\n",
      "       2.00000000e+00, 0.00000000e+00, 0.00000000e+00, 0.00000000e+00,\n",
      "       0.00000000e+00, 0.00000000e+00, 0.00000000e+00, 0.00000000e+00,\n",
      "       1.80000000e+01, 3.26000000e+02, 5.22000000e+02, 5.77000000e+02,\n",
      "       4.02000000e+02, 3.70000000e+02, 3.74000000e+02, 2.53000000e+02,\n",
      "       2.32000000e+02, 1.67000000e+02, 1.26000000e+02, 1.00000000e+02,\n",
      "       1.35000000e+02, 1.47000000e+02, 1.26000000e+02, 5.90000000e+01,\n",
      "       7.70000000e+01, 4.30000000e+01, 3.20000000e+01, 5.00000000e+00,\n",
      "       2.00000000e+00, 1.00000000e+00, 0.00000000e+00, 1.00000000e+00,\n",
      "       1.00000000e+00, 0.00000000e+00, 0.00000000e+00, 0.00000000e+00,\n",
      "       2.75949784e-01, 1.97183394e-01, 1.58048003e-01, 2.72631477e-01,\n",
      "       1.35346273e-01, 2.05369796e-01, 1.96537361e-01, 1.68582825e-01,\n",
      "       3.00941053e-01, 2.72621112e-01, 2.11131040e-01, 7.06930711e-02,\n",
      "       2.17072824e-01, 2.89977915e-01, 1.90046188e-01, 2.17072824e-01,\n",
      "       1.90046218e-01, 2.89198219e-01])]\n"
     ]
    }
   ],
   "source": [
    "features = extract_features(['./data/vehicles/GTI_MiddleClose/image0003.png'])\n",
    "print ('features', features)"
   ]
  },
  {
   "cell_type": "code",
   "execution_count": 10,
   "metadata": {},
   "outputs": [],
   "source": [
    "def pipeline(img):\n",
    "    return img"
   ]
  },
  {
   "cell_type": "code",
   "execution_count": 11,
   "metadata": {},
   "outputs": [],
   "source": [
    "def process_image(img):\n",
    "    img_und = cv2.undistort(img, mtx, dist, None, mtx)\n",
    "    bboxes = [((100, 100), (200, 200)), ((300, 300), (400, 400))]\n",
    "    img_box = draw_boxes(img_und, bboxes)\n",
    "    return img_box"
   ]
  },
  {
   "cell_type": "code",
   "execution_count": 12,
   "metadata": {},
   "outputs": [],
   "source": [
    "#img = mpimg.imread('test_images/test1.jpg')\n",
    "\n",
    "#rh, gh, bh, bincen, feature_vec = color_hist(img, nbins=32, bins_range=(0, 256))\n",
    "#fig = plt.figure(figsize=(12,3))\n",
    "#plt.subplot(131)\n",
    "#plt.bar(bincen, rh[0])\n",
    "#plt.xlim(0, 256)\n",
    "#plt.title('R Histogram')\n",
    "#plt.subplot(132)\n",
    "#plt.bar(bincen, gh[0])\n",
    "#plt.xlim(0, 256)\n",
    "#plt.title('G Histogram')\n",
    "#plt.subplot(133)\n",
    "#plt.bar(bincen, bh[0])\n",
    "#plt.xlim(0, 256)\n",
    "#plt.title('B Histogram')\n",
    "#fig.tight_layout()\n"
   ]
  },
  {
   "cell_type": "code",
   "execution_count": 13,
   "metadata": {},
   "outputs": [],
   "source": [
    "#image = mpimg.imread('test_images/test1.jpg')\n",
    "#gray = cv2.cvtColor(image, cv2.COLOR_BGR2GRAY)\n",
    "\n",
    "# Call our function with vis=True to see an image output\n",
    "#features, hog_image = get_hog_features(gray, orient= 9, pix_per_cell= 8, cell_per_block= 2, vis=True, feature_vec=False)\n",
    "\n",
    "\n",
    "# Plot the examples\n",
    "#fig = plt.figure()\n",
    "#plt.subplot(121)\n",
    "#plt.imshow(image, cmap='gray')\n",
    "#plt.title('Example Car Image')\n",
    "#plt.subplot(122)\n",
    "#plt.imshow(hog_image, cmap='gray')\n",
    "#plt.title('HOG Visualization')\n"
   ]
  },
  {
   "cell_type": "code",
   "execution_count": 14,
   "metadata": {},
   "outputs": [],
   "source": [
    "def get_dataset(directory):\n",
    "    car_filelist = []\n",
    "    notcar_filelist = []\n",
    "    \n",
    "    for path, subdirs, files in os.walk(directory):\n",
    "        for name in files:\n",
    "            if name.endswith('.png'):\n",
    "#                print (path, subdirs, name)\n",
    "                if (os.sep + 'vehicles' + os.sep ) in path:\n",
    "                    car_filelist.append(path + os.sep + name)\n",
    "                if (os.sep + 'non-vehicles' + os.sep ) in path:\n",
    "                    notcar_filelist.append(path + os.sep + name)\n",
    "\n",
    "    return car_filelist, notcar_filelist\n"
   ]
  },
  {
   "cell_type": "code",
   "execution_count": 15,
   "metadata": {},
   "outputs": [],
   "source": [
    "car_filelist, notcar_filelist = get_dataset('./data')"
   ]
  },
  {
   "cell_type": "code",
   "execution_count": 16,
   "metadata": {},
   "outputs": [],
   "source": [
    "#print ('car', len(car_filelist), car_filelist)"
   ]
  },
  {
   "cell_type": "code",
   "execution_count": 17,
   "metadata": {},
   "outputs": [],
   "source": [
    "#print ('car', len(notcar_filelist), notcar_filelist)"
   ]
  },
  {
   "cell_type": "code",
   "execution_count": 18,
   "metadata": {},
   "outputs": [],
   "source": [
    "#print ('car')\n",
    "#for i  in range(len(car_filelist)):\n",
    "#    car_file =  car_filelist[i]\n",
    "#    image = mpimg.imread(car_file)\n",
    "#    print (car_file, image.shape)"
   ]
  },
  {
   "cell_type": "code",
   "execution_count": 19,
   "metadata": {},
   "outputs": [],
   "source": [
    "#for i  in range(len(car_filelist)):\n",
    "#    car_file =  car_filelist[i]\n",
    "#    image = mpimg.imread(car_file)\n",
    "#    if i % 1090 == 34:\n",
    "#        fig = plt.figure()\n",
    "#        plt.imshow(image)"
   ]
  },
  {
   "cell_type": "code",
   "execution_count": 20,
   "metadata": {},
   "outputs": [],
   "source": [
    "#print ('notcar')\n",
    "#for i in range(len(notcar_filelist)):\n",
    "#    notcar_file =  notcar_filelist[i]\n",
    "#    image = mpimg.imread(notcar_file)\n",
    "#    print (notcar_file, image.shape)"
   ]
  },
  {
   "cell_type": "code",
   "execution_count": 21,
   "metadata": {},
   "outputs": [],
   "source": [
    "#for i  in range(len(notcar_filelist)):\n",
    "#    notcar_file =  notcar_filelist[i]\n",
    "#    image = mpimg.imread(notcar_file)\n",
    "#    if i % 1000 == 34:\n",
    "#        fig = plt.figure()\n",
    "#        plt.imshow(image)"
   ]
  },
  {
   "cell_type": "code",
   "execution_count": 22,
   "metadata": {},
   "outputs": [
    {
     "name": "stdout",
     "output_type": "stream",
     "text": [
      "dataset.npz exists\n"
     ]
    }
   ],
   "source": [
    "X, y, mean, scale = None, None, None, None\n",
    "\n",
    "X_train, X_test, y_train, y_test = None,  None,  None,  None\n",
    "\n",
    "if os.path.isfile('dataset.npz'):\n",
    "    print('dataset.npz exists')\n",
    "    X_scaler = preprocessing.StandardScaler()\n",
    "    dataset = np.load('dataset.npz')\n",
    "    X, y, X_scaler.mean_ , X_scaler.scale_  = dataset['X'],  dataset['y'], dataset['mean'], dataset['scale']\n",
    "else:\n",
    "    print('dataset.npz new')\n",
    "    car_features    = extract_features(car_filelist)\n",
    "    notcar_features = extract_features(notcar_filelist)\n",
    "    X = np.vstack((car_features, notcar_features)).astype(np.float64)\n",
    "    y_car = np.ones((len(car_filelist)))\n",
    "    y_notcar = np.zeros((len(notcar_filelist)))\n",
    "    y = np.hstack((y_car, y_notcar)).astype(np.int)\n",
    "    X_scaler = preprocessing.StandardScaler().fit(X)\n",
    "    X = X_scaler.transform(X)\n",
    "    np.savez_compressed('dataset.npz', X = X, y = y, mean = X_scaler.mean_, scale = X_scaler.scale_)\n"
   ]
  },
  {
   "cell_type": "code",
   "execution_count": 23,
   "metadata": {},
   "outputs": [
    {
     "name": "stdout",
     "output_type": "stream",
     "text": [
      "X_train.shape (14208, 114)\n",
      "y_train.shape (14208,)\n",
      "X_test.shape (3552, 114)\n",
      "y_test.shape (3552,)\n"
     ]
    }
   ],
   "source": [
    "X_train, X_test, y_train, y_test = train_test_split(X, y, test_size=0.2, random_state=452553)\n",
    "print ('X_train.shape', X_train.shape)\n",
    "print ('y_train.shape', y_train.shape)\n",
    "print ('X_test.shape', X_test.shape)\n",
    "print ('y_test.shape', y_test.shape)\n"
   ]
  },
  {
   "cell_type": "code",
   "execution_count": 24,
   "metadata": {},
   "outputs": [
    {
     "name": "stdout",
     "output_type": "stream",
     "text": [
      "C 0.235 gamma 0.03\n",
      "score train 0.9748029279279279\n",
      "score test 0.9676238738738738\n",
      "training end\n"
     ]
    }
   ],
   "source": [
    "C_range = [0.235]\n",
    "gamma_range = [0.03]\n",
    "#C_range = [0.230, 0.235, 0.240, 0.245]\n",
    "#gamma_range = [0.020, 0.025, 0.030, 0.035]\n",
    "for C in C_range:\n",
    "    for gamma in gamma_range:\n",
    "        svc = svm.SVC(kernel='rbf', C=C, gamma=gamma)\n",
    "#        svc = LinearSVC()\n",
    "        svc.fit(X_train, y_train)\n",
    "        print ('C', C, 'gamma', gamma)\n",
    "        print ('score train', svc.score(X_train, y_train))\n",
    "        print ('score test', svc.score(X_test, y_test))\n",
    "        joblib.dump(svc, 'model.pkl') \n",
    "'''\n",
    "C = 0.99 \n",
    "gamma = 25.5\n",
    "svc = svm.SVC(kernel='rbf', C=C, gamma=gamma)\n",
    "svc.fit(X, y)\n",
    "\n",
    "svc.score(X_train, y_train)\n",
    "confusion_matrix(y_true, y_pred, labels=[\"ant\", \"bird\", \"cat\"])\n",
    "'''\n",
    "print ('training end')"
   ]
  },
  {
   "cell_type": "code",
   "execution_count": null,
   "metadata": {},
   "outputs": [],
   "source": []
  },
  {
   "cell_type": "code",
   "execution_count": 25,
   "metadata": {},
   "outputs": [],
   "source": [
    "make_video = False\n",
    "if make_video:\n",
    "    white_output = 'output'  + os.sep + 'project_video.mp4'\n",
    "    clip = VideoFileClip(\"project_video.mp4\")\n",
    "    white_clip = clip.fl_image(process_image) \n",
    "    %time white_clip.write_videofile(white_output, audio=False)"
   ]
  },
  {
   "cell_type": "code",
   "execution_count": null,
   "metadata": {},
   "outputs": [],
   "source": []
  },
  {
   "cell_type": "code",
   "execution_count": null,
   "metadata": {},
   "outputs": [],
   "source": []
  }
 ],
 "metadata": {
  "anaconda-cloud": {},
  "kernelspec": {
   "display_name": "Python 3",
   "language": "python",
   "name": "python3"
  },
  "language_info": {
   "codemirror_mode": {
    "name": "ipython",
    "version": 3
   },
   "file_extension": ".py",
   "mimetype": "text/x-python",
   "name": "python",
   "nbconvert_exporter": "python",
   "pygments_lexer": "ipython3",
   "version": "3.6.5"
  },
  "widgets": {
   "state": {},
   "version": "1.1.2"
  }
 },
 "nbformat": 4,
 "nbformat_minor": 1
}
