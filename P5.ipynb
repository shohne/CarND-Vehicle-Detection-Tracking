{
 "cells": [
  {
   "cell_type": "markdown",
   "metadata": {},
   "source": [
    "## Vehicle Detection and Tracking Project\n",
    "\n",
    "The goals / steps of this project are the following:\n",
    "\n",
    "* Use color transforms, gradients, etc., to create a thresholded binary image.\n",
    "* Detect vehicles on road.\n",
    "* Output visual display of the detected cars.\n",
    "\n",
    "---\n",
    "## Camera calibration using chessboard images"
   ]
  },
  {
   "cell_type": "code",
   "execution_count": 1,
   "metadata": {},
   "outputs": [],
   "source": [
    "import numpy as np\n",
    "import cv2\n",
    "import glob\n",
    "import os\n",
    "import matplotlib.pyplot as plt\n",
    "%matplotlib inline\n",
    "import matplotlib.image as mpimg\n",
    "from moviepy.editor import VideoFileClip\n",
    "from IPython.display import HTML\n",
    "import zipfile\n",
    "\n",
    "\n",
    "from skimage.feature import hog\n",
    "from skimage import data, exposure\n",
    "from sklearn import preprocessing\n",
    "from sklearn.svm import LinearSVC\n",
    "from sklearn.datasets import make_classification\n",
    "from sklearn import svm\n",
    "from sklearn.model_selection import train_test_split\n",
    "from sklearn.externals import joblib\n",
    "from sklearn.metrics import confusion_matrix\n",
    "from sklearn.model_selection import GridSearchCV\n"
   ]
  },
  {
   "cell_type": "code",
   "execution_count": 2,
   "metadata": {},
   "outputs": [],
   "source": [
    "if not os.path.isfile('data' + os.sep + 'vehicles' + os.sep + 'GTI_MiddleClose' + os.sep + 'image0003.png'):\n",
    "    zip_ref = zipfile.ZipFile('data' + os.sep + 'vehicles.zip', 'r')\n",
    "    zip_ref.extractall()\n",
    "    zip_ref.close()\n",
    "if not os.path.isfile('data' + os.sep + 'non-vehicles' + os.sep + 'GTI' + os.sep + 'image1.png'):\n",
    "    zip_ref = zipfile.ZipFile('data' + os.sep + 'non-vehicles.zip', 'r')\n",
    "    zip_ref.extractall()\n",
    "    zip_ref.close()"
   ]
  },
  {
   "cell_type": "code",
   "execution_count": 3,
   "metadata": {},
   "outputs": [],
   "source": [
    "def draw_boxes(img, bboxes, color=(0, 0, 255), thick=6):\n",
    "    draw_img = np.copy(img)\n",
    "    for (x1,y1),(x2,y2) in bboxes:\n",
    "        cv2.rectangle(draw_img, (x1, y1), (x2, y2), color, thick)\n",
    "    return draw_img # Change this line to return image copy with boxes"
   ]
  },
  {
   "cell_type": "code",
   "execution_count": 4,
   "metadata": {},
   "outputs": [],
   "source": [
    "def color_hist(image, nbins=2):\n",
    "    feature_image = np.copy(image)\n",
    "#    feature_image = cv2.cvtColor(feature_image, cv2.COLOR_RGB2YCrCb)\n",
    "\n",
    "    rhist = np.histogram(image[:,:,0], bins=nbins, range=(0, 1.0))\n",
    "    ghist = np.histogram(image[:,:,1], bins=nbins, range=(0, 1.0))\n",
    "    bhist = np.histogram(image[:,:,2], bins=nbins, range=(0, 1.0))\n",
    "    bin_edges = rhist[1]\n",
    "    bin_centers = (bin_edges[1:]  + bin_edges[0:len(bin_edges)-1])/2\n",
    "    hist_features = np.concatenate((rhist[0], ghist[0], bhist[0]))\n",
    "    # Return the individual histograms, bin_centers and feature vector\n",
    "    return rhist, ghist, bhist, bin_centers, hist_features"
   ]
  },
  {
   "cell_type": "code",
   "execution_count": null,
   "metadata": {},
   "outputs": [],
   "source": []
  },
  {
   "cell_type": "code",
   "execution_count": 5,
   "metadata": {},
   "outputs": [
    {
     "name": "stdout",
     "output_type": "stream",
     "text": [
      "hist_features (6,) [2687 1409 2613 1483 2689 1407] int64\n"
     ]
    }
   ],
   "source": [
    "image = mpimg.imread('data/vehicles/GTI_MiddleClose/image0100.png')\n",
    "_, _, _, _, hist_features = color_hist(image)\n",
    "#print ('image', image)\n",
    "print ('hist_features', hist_features.shape, hist_features, hist_features.dtype)"
   ]
  },
  {
   "cell_type": "code",
   "execution_count": 6,
   "metadata": {},
   "outputs": [],
   "source": [
    "def bin_spatial(img, color_space='RGB', size=(4, 4)):\n",
    "    # Convert image to new color space (if specified)\n",
    "    if color_space != 'RGB':\n",
    "        if color_space == 'HSV':\n",
    "            feature_image = cv2.cvtColor(img, cv2.COLOR_RGB2HSV)\n",
    "        elif color_space == 'LUV':\n",
    "            feature_image = cv2.cvtColor(img, cv2.COLOR_RGB2LUV)\n",
    "        elif color_space == 'HLS':\n",
    "            feature_image = cv2.cvtColor(img, cv2.COLOR_RGB2HLS)\n",
    "        elif color_space == 'YUV':\n",
    "            feature_image = cv2.cvtColor(img, cv2.COLOR_RGB2YUV)\n",
    "        elif color_space == 'YCrCb':\n",
    "            feature_image = cv2.cvtColor(img, cv2.COLOR_RGB2YCrCb)\n",
    "    else: feature_image = np.copy(img)             \n",
    "    # Use cv2.resize().ravel() to create the feature vector\n",
    "    features = cv2.resize(feature_image, size).ravel() \n",
    "    # Return the feature vector\n",
    "    return features\n"
   ]
  },
  {
   "cell_type": "code",
   "execution_count": 7,
   "metadata": {},
   "outputs": [
    {
     "name": "stdout",
     "output_type": "stream",
     "text": [
      "b (48,) [0.16078432 0.21176471 0.20588236 0.22941178 0.26372552 0.2627451\n",
      " 0.19607843 0.24313727 0.24705884 0.9078432  0.8882353  0.8745098\n",
      " 0.73333335 0.69411767 0.68921566 1.         1.         1.\n",
      " 0.9323529  0.9901961  0.95490193 0.28627452 0.21470588 0.2\n",
      " 0.61764705 0.67156863 0.6245098  0.722549   0.7137255  0.6803922\n",
      " 0.4166667  0.46862745 0.4343137  0.3019608  0.3372549  0.3264706\n",
      " 0.09509804 0.1254902  0.12058824 0.25       0.25980395 0.24901962\n",
      " 0.2764706  0.30686277 0.2882353  0.08627451 0.10980392 0.10980392] [0.16078432 0.21176471 0.20588236 0.22941178 0.26372552 0.2627451\n",
      " 0.19607843 0.24313727 0.24705884 0.9078432  0.8882353  0.8745098\n",
      " 0.73333335 0.69411767 0.68921566 1.         1.         1.\n",
      " 0.9323529  0.9901961  0.95490193 0.28627452 0.21470588 0.2\n",
      " 0.61764705 0.67156863 0.6245098  0.722549   0.7137255  0.6803922\n",
      " 0.4166667  0.46862745 0.4343137  0.3019608  0.3372549  0.3264706\n",
      " 0.09509804 0.1254902  0.12058824 0.25       0.25980395 0.24901962\n",
      " 0.2764706  0.30686277 0.2882353  0.08627451 0.10980392 0.10980392]\n"
     ]
    }
   ],
   "source": [
    "image = mpimg.imread('data/vehicles/GTI_MiddleClose/image0100.png')\n",
    "b = bin_spatial(image)\n",
    "bb = np.array(b)\n",
    "print ('b', b.shape, b, bb)"
   ]
  },
  {
   "cell_type": "code",
   "execution_count": 8,
   "metadata": {},
   "outputs": [],
   "source": [
    "# Define a function to return HOG features and visualization\n",
    "# Features will always be the first element of the return\n",
    "# Image data will be returned as the second element if visualize= True\n",
    "# Otherwise there is no second return element\n",
    "def get_hog_features(img, orient, pix_per_cell, cell_per_block, vis=True, \n",
    "                     feature_vec=True):\n",
    "                         \n",
    "    \"\"\"\n",
    "    Function accepts params and returns HOG features (optionally flattened) and an optional matrix for \n",
    "    visualization. Features will always be the first return (flattened if feature_vector= True).\n",
    "    A visualization matrix will be the second return if visualize = True.\n",
    "    \"\"\"\n",
    "    \n",
    "    return_list = hog(img, orientations=orient, pixels_per_cell=(pix_per_cell, pix_per_cell),\n",
    "                                  cells_per_block=(cell_per_block, cell_per_block),\n",
    "                                  block_norm= 'L2-Hys', transform_sqrt=False, \n",
    "                                  visualise= vis, feature_vector= feature_vec)\n",
    "    \n",
    "#    print ('return_list', len(return_list), return_list)\n",
    "    # name returns explicitly\n",
    "    return return_list\n",
    "#    hog_features = return_list[0]\n",
    "#    if vis:\n",
    "#        hog_image = return_list[1]\n",
    "#        return hog_features, hog_image\n",
    "#    else:\n",
    "#        return hog_features"
   ]
  },
  {
   "cell_type": "code",
   "execution_count": 9,
   "metadata": {},
   "outputs": [
    {
     "name": "stdout",
     "output_type": "stream",
     "text": [
      "hog_features (324,)\n"
     ]
    }
   ],
   "source": [
    "image = mpimg.imread('data/vehicles/GTI_MiddleClose/image0100.png')\n",
    "hog_features = get_hog_features(image, orient=9, pix_per_cell=16, cell_per_block=2, vis=False, feature_vec=True)\n",
    "print ('hog_features', hog_features.shape)   "
   ]
  },
  {
   "cell_type": "code",
   "execution_count": 10,
   "metadata": {},
   "outputs": [],
   "source": [
    "# Define a function to extract features from a list of images\n",
    "# Have this function call bin_spatial() and color_hist()\n",
    "def extract_features(imgs, orient=9, pix_per_cell=16, cell_per_block=2):\n",
    "    # Create a list to append feature vectors to\n",
    "    features = []\n",
    "    # Iterate through the list of images\n",
    "#    for file in imgs:\n",
    "    for image in imgs:\n",
    "        # Read in each one by one\n",
    "        if isinstance(image, str):\n",
    "            image = mpimg.imread(image)\n",
    "#        _, _, _, _, hist_features = color_hist(image)\n",
    "#        hist_features_float = hist_features.astype(np.float64)\n",
    "#        b = bin_spatial(image, color_space='YCrCb', size=(4, 4))\n",
    "        hog_features = []\n",
    "#        hog_features.extend(b.tolist())\n",
    "#        hog_features.extend(hist_features_float.tolist())\n",
    "#                spatial_features = bin_spatial(feature_image, size=spatial_size)\n",
    "#        for colorspace in ['RGB','HSV','LUV','HLS','YUV', 'YCrCb']:\n",
    "        for colorspace in []:\n",
    "#        for colorspace in ['YCrCb']:\n",
    "#        for colorspace in ['YCrCb', 'HSV', 'RGB']:\n",
    "            feature_image = np.copy(image)\n",
    "            if colorspace == 'HSV':\n",
    "                feature_image = cv2.cvtColor(feature_image, cv2.COLOR_RGB2HSV)\n",
    "            elif colorspace == 'LUV':\n",
    "                feature_image = cv2.cvtColor(feature_image, cv2.COLOR_RGB2LUV)\n",
    "            elif colorspace == 'HLS':\n",
    "                feature_image = cv2.cvtColor(feature_image, cv2.COLOR_RGB2HLS)\n",
    "            elif colorspace == 'YUV':\n",
    "                feature_image = cv2.cvtColor(feature_image, cv2.COLOR_RGB2YUV)\n",
    "            elif colorspace == 'YCrCb':\n",
    "                feature_image = cv2.cvtColor(feature_image, cv2.COLOR_RGB2YCrCb)\n",
    "            \n",
    "            for channel in range(feature_image.shape[2]):\n",
    "                hog_features.append(get_hog_features(feature_image[:,:,channel], \n",
    "                                    orient, pix_per_cell, cell_per_block, \n",
    "                                    vis=False, feature_vec=True))\n",
    "\n",
    "        feature_image = np.copy(image)\n",
    "        feature_image = cv2.cvtColor(feature_image, cv2.COLOR_RGB2GRAY)\n",
    "        hog_features.append(get_hog_features(feature_image[:,:], orient, pix_per_cell, cell_per_block, vis=False, feature_vec=True))\n",
    "        \n",
    "        hog_features = np.ravel(hog_features)        \n",
    "\n",
    "        # Append the new feature vector to the features list\n",
    "        features.append(hog_features)\n",
    "    # Return list of feature vectors\n",
    "    return features\n",
    "\n"
   ]
  },
  {
   "cell_type": "code",
   "execution_count": null,
   "metadata": {},
   "outputs": [],
   "source": []
  },
  {
   "cell_type": "code",
   "execution_count": 11,
   "metadata": {
    "scrolled": true
   },
   "outputs": [
    {
     "name": "stdout",
     "output_type": "stream",
     "text": [
      "features (324,) [array([0.29030032, 0.14637741, 0.16167668, 0.13886553, 0.24775555,\n",
      "       0.08615499, 0.09254924, 0.06025342, 0.16372523, 0.05791912,\n",
      "       0.02412602, 0.01588942, 0.14087528, 0.30825717, 0.1033144 ,\n",
      "       0.04116886, 0.02688365, 0.0451087 , 0.05705476, 0.08914813,\n",
      "       0.10510951, 0.28983154, 0.30825717, 0.20841174, 0.30825717,\n",
      "       0.17649058, 0.23881424, 0.0501651 , 0.05708067, 0.07133388,\n",
      "       0.18035495, 0.30825717, 0.1645987 , 0.01565907, 0.0867569 ,\n",
      "       0.07544834, 0.06665416, 0.02776457, 0.01828578, 0.16212131,\n",
      "       0.38971466, 0.1188957 , 0.04737771, 0.03093809, 0.05191174,\n",
      "       0.19702423, 0.11442549, 0.08950605, 0.08291347, 0.38971466,\n",
      "       0.14892006, 0.08982119, 0.1450289 , 0.17150732, 0.05773072,\n",
      "       0.06568925, 0.08209206, 0.20755509, 0.38971466, 0.18942256,\n",
      "       0.01802069, 0.09984109, 0.08682704, 0.06206025, 0.05211853,\n",
      "       0.08879504, 0.25296282, 0.38971466, 0.04216827, 0.01554263,\n",
      "       0.03762106, 0.00884642, 0.14916058, 0.08662779, 0.0677621 ,\n",
      "       0.06277107, 0.28719811, 0.1127425 , 0.06800068, 0.10979663,\n",
      "       0.12984257, 0.28719811, 0.10784578, 0.13308593, 0.21021206,\n",
      "       0.28719811, 0.19224334, 0.11628418, 0.13477513, 0.21148135,\n",
      "       0.04698379, 0.03945723, 0.06722382, 0.19150986, 0.28719811,\n",
      "       0.03192422, 0.01176682, 0.02848167, 0.00669734, 0.19319671,\n",
      "       0.20431372, 0.2237454 , 0.1091806 , 0.28719811, 0.28719811,\n",
      "       0.10646574, 0.06927674, 0.17178551, 0.05223844, 0.08162263,\n",
      "       0.09623662, 0.26536523, 0.34881157, 0.19081854, 0.28365952,\n",
      "       0.16159202, 0.21865459, 0.04593038, 0.05226217, 0.06531218,\n",
      "       0.16513018, 0.34881157, 0.150704  , 0.0143372 , 0.07943326,\n",
      "       0.06907932, 0.03140181, 0.06572663, 0.05732955, 0.09849976,\n",
      "       0.34881157, 0.18378286, 0.1280977 , 0.07494798, 0.06878816,\n",
      "       0.03084565, 0.04157402, 0.06364942, 0.21067065, 0.34881157,\n",
      "       0.1713594 , 0.06073669, 0.00923229, 0.00064369, 0.04870603,\n",
      "       0.05542046, 0.06925911, 0.17510927, 0.41215883, 0.15981129,\n",
      "       0.01520362, 0.08423355, 0.0732539 , 0.05235876, 0.04397116,\n",
      "       0.07491426, 0.21341869, 0.41215883, 0.03557636, 0.01311295,\n",
      "       0.03173999, 0.00746351, 0.0327097 , 0.04408641, 0.06749586,\n",
      "       0.22340182, 0.41215883, 0.18171493, 0.06440711, 0.00979021,\n",
      "       0.00068258, 0.02702688, 0.00986471, 0.05578017, 0.15373218,\n",
      "       0.41215883, 0.21068701, 0.10082415, 0.07581354, 0.02028683,\n",
      "       0.05427695, 0.04558207, 0.07765879, 0.22123742, 0.33980919,\n",
      "       0.03687973, 0.01359335, 0.03290281, 0.00773694, 0.22318612,\n",
      "       0.23602879, 0.25847679, 0.1261284 , 0.33980919, 0.33980919,\n",
      "       0.12299213, 0.08003038, 0.19845131, 0.02801703, 0.01022611,\n",
      "       0.05782372, 0.15936426, 0.33980919, 0.21840566, 0.1045179 ,\n",
      "       0.07859101, 0.02103005, 0.10376945, 0.12067697, 0.16803833,\n",
      "       0.15554392, 0.15559083, 0.01577894, 0.06252328, 0.0713912 ,\n",
      "       0.14204482, 0.04897571, 0.10251026, 0.0894138 , 0.15362473,\n",
      "       0.41287396, 0.28663617, 0.19978704, 0.1168923 , 0.10728517,\n",
      "       0.04810828, 0.06484075, 0.09927055, 0.32857159, 0.41287396,\n",
      "       0.26725996, 0.09472772, 0.0143991 , 0.00100392, 0.04076192,\n",
      "       0.01421577, 0.00822524, 0.03813964, 0.2838863 , 0.05501353,\n",
      "       0.02987578, 0.01161717, 0.01356861, 0.00450892, 0.00096495,\n",
      "       0.00643554, 0.04160753, 0.41287396, 0.04287745, 0.00717724,\n",
      "       0.00323709, 0.00134903, 0.04231954, 0.05703864, 0.08732559,\n",
      "       0.28903546, 0.41322549, 0.2351013 , 0.08332939, 0.0126665 ,\n",
      "       0.00088312, 0.03496716, 0.01276288, 0.07216794, 0.19889745,\n",
      "       0.41322549, 0.27258515, 0.13044547, 0.09808694, 0.02624693,\n",
      "       0.00396638, 0.00084884, 0.00566117, 0.03660101, 0.41322549,\n",
      "       0.03771813, 0.00631362, 0.00284758, 0.00118671, 0.01582474,\n",
      "       0.00560071, 0.01748445, 0.05496841, 0.41322549, 0.05289351,\n",
      "       0.02418292, 0.01605836, 0.02230025, 0.04537294, 0.01656095,\n",
      "       0.09364419, 0.25808678, 0.37336219, 0.35370299, 0.16926437,\n",
      "       0.12727636, 0.03405769, 0.16805227, 0.1954336 , 0.27213426,\n",
      "       0.25189983, 0.25197581, 0.02555364, 0.10125503, 0.11561643,\n",
      "       0.23003835, 0.02053398, 0.00726741, 0.0226876 , 0.07132631,\n",
      "       0.37336219, 0.06863394, 0.03137945, 0.02083712, 0.02893652,\n",
      "       0.09665589, 0.02232733, 0.01778577, 0.05100991, 0.08634507,\n",
      "       0.02995858, 0.04675259, 0.04496316, 0.29897023])]\n"
     ]
    }
   ],
   "source": [
    "features = extract_features(['./data/vehicles/GTI_MiddleClose/image0100.png'])\n",
    "print ('features', features[0].shape, features)"
   ]
  },
  {
   "cell_type": "code",
   "execution_count": 12,
   "metadata": {},
   "outputs": [],
   "source": [
    "def get_dataset(directory):\n",
    "    car_filelist = []\n",
    "    notcar_filelist = []\n",
    "    \n",
    "    for path, subdirs, files in os.walk(directory):\n",
    "        for name in files:\n",
    "            if name.endswith('.png'):\n",
    "#                print (path, subdirs, name)\n",
    "                if (os.sep + 'vehicles' + os.sep ) in path:\n",
    "                    car_filelist.append(path + os.sep + name)\n",
    "                if (os.sep + 'non-vehicles' + os.sep ) in path:\n",
    "                    notcar_filelist.append(path + os.sep + name)\n",
    "\n",
    "    return car_filelist, notcar_filelist\n"
   ]
  },
  {
   "cell_type": "code",
   "execution_count": 13,
   "metadata": {},
   "outputs": [],
   "source": [
    "car_filelist, notcar_filelist = get_dataset('./data')"
   ]
  },
  {
   "cell_type": "code",
   "execution_count": 14,
   "metadata": {},
   "outputs": [
    {
     "name": "stdout",
     "output_type": "stream",
     "text": [
      "dataset.npz new\n"
     ]
    }
   ],
   "source": [
    "X, y, mean, scale = None, None, None, None\n",
    "\n",
    "X_train, X_test, y_train, y_test = None,  None,  None,  None\n",
    "\n",
    "if os.path.isfile('dataset.npz'):\n",
    "    print('dataset.npz exists')\n",
    "    X_scaler = preprocessing.StandardScaler()\n",
    "    dataset = np.load('dataset.npz')\n",
    "    X, y, X_scaler.mean_ , X_scaler.scale_  = dataset['X'],  dataset['y'], dataset['mean'], dataset['scale']\n",
    "else:\n",
    "    print('dataset.npz new')\n",
    "    car_features    = extract_features(car_filelist)\n",
    "    notcar_features = extract_features(notcar_filelist)\n",
    "    X = np.vstack((car_features, notcar_features)).astype(np.float64)\n",
    "    y_car = np.ones((len(car_filelist)))\n",
    "    y_notcar = np.zeros((len(notcar_filelist)))\n",
    "    y = np.hstack((y_car, y_notcar)).astype(np.int)\n",
    "    X_scaler = preprocessing.StandardScaler().fit(X)\n",
    "    X = X_scaler.transform(X)\n",
    "    np.savez_compressed('dataset.npz', X = X, y = y, mean = X_scaler.mean_, scale = X_scaler.scale_)\n"
   ]
  },
  {
   "cell_type": "code",
   "execution_count": 15,
   "metadata": {},
   "outputs": [
    {
     "name": "stdout",
     "output_type": "stream",
     "text": [
      "X_train.shape (14208, 324)\n",
      "y_train.shape (14208,)\n",
      "X_test.shape (3552, 324)\n",
      "y_test.shape (3552,)\n"
     ]
    }
   ],
   "source": [
    "X_train, X_test, y_train, y_test = train_test_split(X, y, test_size=0.2, random_state=452553)\n",
    "print ('X_train.shape', X_train.shape)\n",
    "print ('y_train.shape', y_train.shape)\n",
    "print ('X_test.shape', X_test.shape)\n",
    "print ('y_test.shape', y_test.shape)\n"
   ]
  },
  {
   "cell_type": "code",
   "execution_count": 16,
   "metadata": {
    "scrolled": true
   },
   "outputs": [
    {
     "name": "stdout",
     "output_type": "stream",
     "text": [
      "C 0.2 gamma 0.01\n",
      "score train 0.9827561936936937\n",
      "confusion matrix train [[7177    9]\n",
      " [ 236 6786]]\n",
      "score test 0.9676238738738738\n",
      "confusion matrix test [[1772   10]\n",
      " [ 105 1665]]\n",
      "training end\n",
      "score train 0.9827561936936937\n",
      "confusion matrix train [[7177    9]\n",
      " [ 236 6786]]\n",
      "score test 0.9676238738738738\n",
      "confusion matrix test [[1772   10]\n",
      " [ 105 1665]]\n"
     ]
    }
   ],
   "source": [
    "model = None\n",
    "if not os.path.isfile('model.pkl'):\n",
    "\n",
    "    '''\n",
    "    parameters = {\n",
    "        'kernel':('rbf'), \n",
    "        'C':[0.200, 0.250, 0.300],\n",
    "        'gamma': [0.020]\n",
    "    }\n",
    "    svr = svm.SVC()\n",
    "    model = GridSearchCV(svr, parameters)\n",
    "    model.fit(X, y)\n",
    "    joblib.dump(model, 'model.pkl') \n",
    "'''\n",
    "    C_range = [0.235]\n",
    "    gamma_range = [0.03]\n",
    "    C_range = [0.200, 0.250, 0.300]\n",
    "    gamma_range = [0.010, 0.015, 0.020]\n",
    "    C_range = [0.200]\n",
    "    gamma_range = [0.01]\n",
    "    for C in C_range:\n",
    "        for gamma in gamma_range:\n",
    "            print ('C', C, 'gamma', gamma)\n",
    "            model = svm.SVC(kernel='rbf', C=C, gamma=gamma)\n",
    "            model.fit(X_train, y_train)\n",
    "            print ('score train', model.score(X_train, y_train))\n",
    "            y_train_pred = model.predict(X_train)\n",
    "            print ('confusion matrix train', confusion_matrix(y_train, y_train_pred))\n",
    "            print ('score test', model.score(X_test, y_test))\n",
    "            y_test_pred = model.predict(X_test)\n",
    "            print ('confusion matrix test', confusion_matrix(y_test, y_test_pred))\n",
    "\n",
    "            joblib.dump(model, 'model.pkl') \n",
    "\n",
    "            \n",
    "    print ('training end')\n",
    "else:\n",
    "    model = joblib.load('model.pkl') \n",
    "\n",
    "\n",
    "print ('score train', model.score(X_train, y_train))\n",
    "y_train_pred = model.predict(X_train)\n",
    "print ('confusion matrix train', confusion_matrix(y_train, y_train_pred))\n",
    "print ('score test', model.score(X_test, y_test))\n",
    "y_test_pred = model.predict(X_test)\n",
    "print ('confusion matrix test', confusion_matrix(y_test, y_test_pred))\n",
    "\n"
   ]
  },
  {
   "cell_type": "code",
   "execution_count": 17,
   "metadata": {},
   "outputs": [],
   "source": [
    "# Define a function that takes an image,\n",
    "# start and stop positions in both x and y, \n",
    "# window size (x and y dimensions),  \n",
    "# and overlap fraction (for both x and y)\n",
    "def slide_window(img, x_start_stop=[None, None], y_start_stop=[None, None], \n",
    "                    xy_window=(64, 64), xy_overlap=(0.5, 0.5)):\n",
    "    # If x and/or y start/stop positions not defined, set to image size\n",
    "    if x_start_stop[0] == None:\n",
    "        x_start_stop[0] = 0\n",
    "    if x_start_stop[1] == None:\n",
    "        x_start_stop[1] = img.shape[1]\n",
    "    if y_start_stop[0] == None:\n",
    "        y_start_stop[0] = 0\n",
    "    if y_start_stop[1] == None:\n",
    "        y_start_stop[1] = img.shape[0]\n",
    "    # Compute the span of the region to be searched    \n",
    "    xspan = x_start_stop[1] - x_start_stop[0]\n",
    "    yspan = y_start_stop[1] - y_start_stop[0]\n",
    "    # Compute the number of pixels per step in x/y\n",
    "    nx_pix_per_step = np.int(xy_window[0]*(1 - xy_overlap[0]))\n",
    "    ny_pix_per_step = np.int(xy_window[1]*(1 - xy_overlap[1]))\n",
    "    # Compute the number of windows in x/y\n",
    "    nx_buffer = np.int(xy_window[0]*(xy_overlap[0]))\n",
    "    ny_buffer = np.int(xy_window[1]*(xy_overlap[1]))\n",
    "    nx_windows = np.int((xspan-nx_buffer)/nx_pix_per_step) \n",
    "    ny_windows = np.int((yspan-ny_buffer)/ny_pix_per_step) \n",
    "    # Initialize a list to append window positions to\n",
    "    window_list = []\n",
    "    # Loop through finding x and y window positions\n",
    "    # Note: you could vectorize this step, but in practice\n",
    "    # you'll be considering windows one by one with your\n",
    "    # classifier, so looping makes sense\n",
    "    for ys in range(ny_windows):\n",
    "        for xs in range(nx_windows):\n",
    "            # Calculate window position\n",
    "            startx = xs*nx_pix_per_step + x_start_stop[0]\n",
    "            endx = startx + xy_window[0]\n",
    "            starty = ys*ny_pix_per_step + y_start_stop[0]\n",
    "            endy = starty + xy_window[1]\n",
    "            # Append window position to list\n",
    "            window_list.append(((startx, starty), (endx, endy)))\n",
    "    # Return the list of windows\n",
    "    return window_list"
   ]
  },
  {
   "cell_type": "code",
   "execution_count": 18,
   "metadata": {},
   "outputs": [
    {
     "name": "stdout",
     "output_type": "stream",
     "text": [
      "image.shape (720, 1280, 3) 255\n",
      "[1]\n",
      "hist_features (6,) [1761 2335 1882 2214 2063 2033] 12288\n"
     ]
    },
    {
     "data": {
      "image/png": "[encoded data removed]",
      "text/plain": [
       "<Figure size 432x288 with 1 Axes>"
      ]
     },
     "metadata": {},
     "output_type": "display_data"
    }
   ],
   "source": [
    "#L = 114\n",
    "#S = 64\n",
    "#image = mpimg.imread('test_images/t1.png')\n",
    "#img = draw_boxes(image, [((810,380),(810+L,380+L))], color=(255, 0, 0), thick=2)\n",
    "#fig = plt.figure()\n",
    "#plt.imshow(img)\n",
    "\n",
    "#L = 106\n",
    "#S = 64\n",
    "#image = mpimg.imread('test_images/test3.jpg')\n",
    "#img = draw_boxes(image, [((866,384),(866+L,384+L))], color=(255, 0, 0), thick=2)\n",
    "\n",
    "L = 230\n",
    "S = 64\n",
    "#image = mpimg.imread('test_images/test1.png')\n",
    "image = mpimg.imread('test_images/test1.jpg')\n",
    "print ('image.shape', image.shape, np.max(image))\n",
    "#ii = cv2.resize(image[810:810+L,380:380+L], (S, S))   \n",
    "#ii = image #cv2.resize(image[384:384+L,820:820+L], (64, 64)) \n",
    "ii = cv2.resize(image[344:344+L,1048:1048+L], (64, 64)) \n",
    "ii = ii.astype(np.float32) / 255.0\n",
    "#print (iii)\n",
    "fig = plt.figure()\n",
    "plt.imshow(ii)\n",
    "image_features = extract_features([ii])\n",
    "image_features = X_scaler.transform(image_features)\n",
    "p = model.predict(image_features)\n",
    "print (p)\n",
    "#image_features = extract_features(['test_images/t1.png'])\n",
    "#image_features = X_scaler.transform(image_features)\n",
    "#print('image_features', image_features.shape)\n",
    "#p = model.predict(image_features)\n",
    "#print ('p', p)\n",
    "\n",
    "#image = mpimg.imread('data/vehicles/GTI_MiddleClose/image0002.png')\n",
    "#image_features = extract_features([image])\n",
    "#image_features = X_scaler.transform(image_features)\n",
    "#p = model.predict(image_features)\n",
    "#print ('p', p)\n",
    "#fig = plt.figure()\n",
    "#plt.imshow(image)\n",
    "\n",
    "#print('image_features', image_features.shape)\n",
    "#print (ii)\n",
    "\n",
    "_, _, _, _, hist_features = color_hist(ii)\n",
    "#print ('image', image)\n",
    "print ('hist_features', hist_features.shape, hist_features, np.sum(hist_features))"
   ]
  },
  {
   "cell_type": "code",
   "execution_count": 19,
   "metadata": {
    "scrolled": true
   },
   "outputs": [
    {
     "name": "stdout",
     "output_type": "stream",
     "text": [
      "[1]\n",
      "hist_features (6,) [2692 1404 2728 1368 2758 1338] 12288\n"
     ]
    },
    {
     "data": {
      "image/png": "[encoded data removed]",
      "text/plain": [
       "<Figure size 432x288 with 1 Axes>"
      ]
     },
     "metadata": {},
     "output_type": "display_data"
    }
   ],
   "source": [
    "L = 140\n",
    "S = 64\n",
    "image = mpimg.imread('test_images/test1.jpg')\n",
    "\n",
    "ii = cv2.resize(image[390:390+L,810:810+L], (S, S))   \n",
    "ii = ii.astype(np.float32) / 255.0\n",
    "fig = plt.figure()\n",
    "plt.imshow(ii)\n",
    "image_features = extract_features([ii])\n",
    "image_features = X_scaler.transform(image_features)\n",
    "p = model.predict(image_features)\n",
    "print (p)\n",
    "#\n",
    "_, _, _, _, hist_features = color_hist(ii)\n",
    "#print ('image', image)\n",
    "print ('hist_features', hist_features.shape, hist_features, np.sum(hist_features))"
   ]
  },
  {
   "cell_type": "code",
   "execution_count": 20,
   "metadata": {},
   "outputs": [
    {
     "name": "stdout",
     "output_type": "stream",
     "text": [
      "[0]\n"
     ]
    },
    {
     "data": {
      "image/png": "[encoded data removed]",
      "text/plain": [
       "<Figure size 432x288 with 1 Axes>"
      ]
     },
     "metadata": {},
     "output_type": "display_data"
    }
   ],
   "source": [
    "L = 20\n",
    "S = 64\n",
    "image = mpimg.imread('test_images/test1.jpg')\n",
    "\n",
    "ii = cv2.resize(image[407:407+L,774:774+L], (S, S))   \n",
    "ii = ii.astype(np.float32) / 255.0\n",
    "fig = plt.figure()\n",
    "plt.imshow(ii)\n",
    "image_features = extract_features([ii])\n",
    "image_features = X_scaler.transform(image_features)\n",
    "p = model.predict(image_features)\n",
    "print (p)\n",
    "\n"
   ]
  },
  {
   "cell_type": "code",
   "execution_count": 21,
   "metadata": {},
   "outputs": [
    {
     "name": "stdout",
     "output_type": "stream",
     "text": [
      "[0]\n"
     ]
    }
   ],
   "source": [
    "images_features = extract_features(['data/vehicles/GTI_MiddleClose/image0100.png', 'test_images/t1.png', 'test_images/t2.png', 'test_images/t3.png', 'test_images/t4.png', 'test_images/t5.png'])\n",
    "images_features = X_scaler.transform(images_features)\n",
    "print(p)\n",
    "p = model.predict(images_features)\n"
   ]
  },
  {
   "cell_type": "code",
   "execution_count": 22,
   "metadata": {},
   "outputs": [
    {
     "name": "stdout",
     "output_type": "stream",
     "text": [
      "len(window_list) 885924\n"
     ]
    }
   ],
   "source": [
    "window_list = slide_window(image, xy_window=(L, L), xy_overlap=(0.9, 0.9)) \n",
    "print ('len(window_list)', len(window_list))\n",
    "#print ('window_list', window_list)"
   ]
  },
  {
   "cell_type": "code",
   "execution_count": null,
   "metadata": {
    "scrolled": false
   },
   "outputs": [
    {
     "name": "stdout",
     "output_type": "stream",
     "text": [
      "((1059, 169), (1079, 189))\n"
     ]
    }
   ],
   "source": [
    "i = 0\n",
    "j = 0\n",
    "for window in window_list:\n",
    "    i = i + 1\n",
    "#    if (window[1][0] >= 720) or (window[1][1] >= 1280):\n",
    "#        continue\n",
    "    ii = cv2.resize(image[window[0][1]:window[1][1], window[0][0]:window[1][0]], (S, S))      \n",
    "    image_features = extract_features([ii])\n",
    "    image_features = X_scaler.transform(image_features)\n",
    "#    fig = plt.figure()\n",
    "#    plt.imshow(ii)\n",
    "\n",
    "    p = model.predict(image_features)\n",
    "#    print (p)\n",
    "    if p[0] == 1:\n",
    "        print (window)\n",
    "    j = j + 1\n",
    "print ('end', i, j)"
   ]
  },
  {
   "cell_type": "code",
   "execution_count": null,
   "metadata": {},
   "outputs": [],
   "source": [
    "def pipeline(img):\n",
    "    return img\n",
    "\n",
    "def process_image(img):\n",
    "    img_und = cv2.undistort(img, mtx, dist, None, mtx)\n",
    "    bboxes = [((100, 100), (200, 200)), ((300, 300), (400, 400))]\n",
    "    img_box = draw_boxes(img_und, bboxes)\n",
    "    return img_box\n",
    "\n",
    "make_video = False\n",
    "if make_video:\n",
    "    white_output = 'output'  + os.sep + 'project_video.mp4'\n",
    "    clip = VideoFileClip(\"project_video.mp4\")\n",
    "    white_clip = clip.fl_image(process_image) \n",
    "    %time white_clip.write_videofile(white_output, audio=False)"
   ]
  },
  {
   "cell_type": "code",
   "execution_count": null,
   "metadata": {},
   "outputs": [],
   "source": []
  },
  {
   "cell_type": "code",
   "execution_count": null,
   "metadata": {},
   "outputs": [],
   "source": []
  }
 ],
 "metadata": {
  "anaconda-cloud": {},
  "kernelspec": {
   "display_name": "Python 3",
   "language": "python",
   "name": "python3"
  },
  "language_info": {
   "codemirror_mode": {
    "name": "ipython",
    "version": 3
   },
   "file_extension": ".py",
   "mimetype": "text/x-python",
   "name": "python",
   "nbconvert_exporter": "python",
   "pygments_lexer": "ipython3",
   "version": "3.6.5"
  },
  "widgets": {
   "state": {},
   "version": "1.1.2"
  }
 },
 "nbformat": 4,
 "nbformat_minor": 1
}
